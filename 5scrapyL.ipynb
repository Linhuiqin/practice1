{
 "cells": [
  {
   "cell_type": "code",
   "execution_count": 1,
   "id": "1b1e7918-3a44-4d3d-b674-896da8303e4f",
   "metadata": {},
   "outputs": [
    {
     "data": {
      "text/plain": [
       "'scrapy也是个python第三方库，是个网络爬虫框架 pip install scrapy\\n安装后可用scrapy -h测试安装效果\\n注意，scrapy不是一个简单的函数功能库，而是一个爬虫框架。是实现爬虫功能的一个软件\\n结构和功能组件集合。爬虫框架是一个半成品，能够帮助用户实现专业网络爬虫。\\n数据路径\\n1）URL请求通过spider到达engine，engine将这个爬虫请求转发给scheduler模块（负责对爬取请求进行调度）\\n2）从scheduler模块通过engine模块到达downloader模块，且最终数据返回到spider模块\\n3）从spider到engine，再到item pipelines模块以及scheduler模块\\n（spider处理从down loader获得的响应，也就是从网络中爬取的相关内容，处理后产生两个数据\\n类型，爬取项scrapy item和一个新的爬取请求，将他们发送给engine模块，engine将item发送给\\nitem pipelines模块，把request发送给scheduler进行调度，从而为后期的数据处理，以及再次\\n启动网络爬虫请求提供新的数据来源。\\nengine控制着各个模块的数据流，且不断从scheduler获得真实要爬取的请求。整个框架的执行，是从\\n向engine发送第一个请求开始，到获得所有链接内容，并将内容处理后放到item pipelines为止。\\n所以说，这个框架的入口是spiders，出口是item pipelines）\\n用户需编写spider和item模块，spider提供整个框架爬取需要的URL链接，同时解析从网络上\\n获得的页面内容，item负责对提取的信息进行后处理。把这种代码编写方式称为配置。'"
      ]
     },
     "execution_count": 1,
     "metadata": {},
     "output_type": "execute_result"
    }
   ],
   "source": [
    "'''scrapy也是个python第三方库，是个网络爬虫框架 pip install scrapy\n",
    "安装后可用scrapy -h测试安装效果\n",
    "注意，scrapy不是一个简单的函数功能库，而是一个爬虫框架。是实现爬虫功能的一个软件\n",
    "结构和功能组件集合。爬虫框架是一个半成品，能够帮助用户实现专业网络爬虫。\n",
    "数据路径\n",
    "1）URL请求通过spider到达engine，engine将这个爬虫请求转发给scheduler模块（负责对爬取请求进行调度）\n",
    "2）从scheduler模块通过engine模块到达downloader模块，且最终数据返回到spider模块\n",
    "3）从spider到engine，再到item pipelines模块以及scheduler模块\n",
    "（spider处理从down loader获得的响应，也就是从网络中爬取的相关内容，处理后产生两个数据\n",
    "类型，爬取项scrapy item和一个新的爬取请求，将他们发送给engine模块，engine将item发送给\n",
    "item pipelines模块，把request发送给scheduler进行调度，从而为后期的数据处理，以及再次\n",
    "启动网络爬虫请求提供新的数据来源。\n",
    "engine控制着各个模块的数据流，且不断从scheduler获得真实要爬取的请求。整个框架的执行，是从\n",
    "向engine发送第一个请求开始，到获得所有链接内容，并将内容处理后放到item pipelines为止。\n",
    "所以说，这个框架的入口是spiders，出口是item pipelines）\n",
    "用户需编写spider和item模块，spider提供整个框架爬取需要的URL链接，同时解析从网络上\n",
    "获得的页面内容，item负责对提取的信息进行后处理。把这种代码编写方式称为配置。'''\n"
   ]
  },
  {
   "cell_type": "code",
   "execution_count": null,
   "id": "075970dd-a2f6-4ecc-ba5f-c22aa39305c9",
   "metadata": {},
   "outputs": [],
   "source": [
    "#股票数据scrapy爬虫练习\n",
    "#建立工程和生成spider模块；编写spider；编写item \n",
    "'''命令行（scrapy startproject BaiduStocks）新建一个baidustocks目录，(cd BaiduStocks)在该目录下生成一个爬虫，\n",
    "用genspider生成一个叫stocks的爬虫(scrapy genspider stocks baidu.com)\n",
    "进一步修改spiders/stocks.py文件\n",
    "编写的配置stocks.py文件--处理所有股票信息，并且把提取的信息以字典类型封装成item类，给到了后面的pipeline'''\n",
    "#获取股票列表-东方财富网-http://quote.eastmoney.com/stocklist.html\n",
    "#获取个股信息=百度股票-https://gupiao.baidu.com/stock/\n",
    "#单个股票-https://gupiao.baidu.com/stock/sz002439.html\n",
    "'''配置pipelines.py文件，定义对爬取项scraped item的处理类'''"
   ]
  },
  {
   "cell_type": "code",
   "execution_count": 2,
   "id": "abf82948-39f7-4778-9b36-58bf5826d168",
   "metadata": {},
   "outputs": [
    {
     "ename": "Exception",
     "evalue": "File `'run1.py'` not found.",
     "output_type": "error",
     "traceback": [
      "\u001b[0;31m---------------------------------------------------------------------------\u001b[0m",
      "\u001b[0;31mOSError\u001b[0m                                   Traceback (most recent call last)",
      "File \u001b[0;32m~/opt/anaconda3/lib/python3.9/site-packages/IPython/core/magics/execution.py:697\u001b[0m, in \u001b[0;36mExecutionMagics.run\u001b[0;34m(self, parameter_s, runner, file_finder)\u001b[0m\n\u001b[1;32m    696\u001b[0m     fpath \u001b[38;5;241m=\u001b[39m arg_lst[\u001b[38;5;241m0\u001b[39m]\n\u001b[0;32m--> 697\u001b[0m     filename \u001b[38;5;241m=\u001b[39m \u001b[43mfile_finder\u001b[49m\u001b[43m(\u001b[49m\u001b[43mfpath\u001b[49m\u001b[43m)\u001b[49m\n\u001b[1;32m    698\u001b[0m \u001b[38;5;28;01mexcept\u001b[39;00m \u001b[38;5;167;01mIndexError\u001b[39;00m \u001b[38;5;28;01mas\u001b[39;00m e:\n",
      "File \u001b[0;32m~/opt/anaconda3/lib/python3.9/site-packages/IPython/utils/path.py:90\u001b[0m, in \u001b[0;36mget_py_filename\u001b[0;34m(name)\u001b[0m\n\u001b[1;32m     89\u001b[0m         \u001b[38;5;28;01mreturn\u001b[39;00m py_name\n\u001b[0;32m---> 90\u001b[0m \u001b[38;5;28;01mraise\u001b[39;00m \u001b[38;5;167;01mIOError\u001b[39;00m(\u001b[38;5;124m\"\u001b[39m\u001b[38;5;124mFile `\u001b[39m\u001b[38;5;132;01m%r\u001b[39;00m\u001b[38;5;124m` not found.\u001b[39m\u001b[38;5;124m\"\u001b[39m \u001b[38;5;241m%\u001b[39m name)\n",
      "\u001b[0;31mOSError\u001b[0m: File `'run1.py'` not found.",
      "\nThe above exception was the direct cause of the following exception:\n",
      "\u001b[0;31mException\u001b[0m                                 Traceback (most recent call last)",
      "Cell \u001b[0;32mIn[2], line 1\u001b[0m\n\u001b[0;32m----> 1\u001b[0m \u001b[43mget_ipython\u001b[49m\u001b[43m(\u001b[49m\u001b[43m)\u001b[49m\u001b[38;5;241;43m.\u001b[39;49m\u001b[43mrun_line_magic\u001b[49m\u001b[43m(\u001b[49m\u001b[38;5;124;43m'\u001b[39;49m\u001b[38;5;124;43mrun\u001b[39;49m\u001b[38;5;124;43m'\u001b[39;49m\u001b[43m,\u001b[49m\u001b[43m \u001b[49m\u001b[38;5;124;43m'\u001b[39;49m\u001b[38;5;124;43mrun1.py\u001b[39;49m\u001b[38;5;124;43m'\u001b[39;49m\u001b[43m)\u001b[49m\n",
      "File \u001b[0;32m~/opt/anaconda3/lib/python3.9/site-packages/IPython/core/interactiveshell.py:2369\u001b[0m, in \u001b[0;36mInteractiveShell.run_line_magic\u001b[0;34m(self, magic_name, line, _stack_depth)\u001b[0m\n\u001b[1;32m   2367\u001b[0m     kwargs[\u001b[38;5;124m'\u001b[39m\u001b[38;5;124mlocal_ns\u001b[39m\u001b[38;5;124m'\u001b[39m] \u001b[38;5;241m=\u001b[39m \u001b[38;5;28mself\u001b[39m\u001b[38;5;241m.\u001b[39mget_local_scope(stack_depth)\n\u001b[1;32m   2368\u001b[0m \u001b[38;5;28;01mwith\u001b[39;00m \u001b[38;5;28mself\u001b[39m\u001b[38;5;241m.\u001b[39mbuiltin_trap:\n\u001b[0;32m-> 2369\u001b[0m     result \u001b[38;5;241m=\u001b[39m \u001b[43mfn\u001b[49m\u001b[43m(\u001b[49m\u001b[38;5;241;43m*\u001b[39;49m\u001b[43margs\u001b[49m\u001b[43m,\u001b[49m\u001b[43m \u001b[49m\u001b[38;5;241;43m*\u001b[39;49m\u001b[38;5;241;43m*\u001b[39;49m\u001b[43mkwargs\u001b[49m\u001b[43m)\u001b[49m\n\u001b[1;32m   2371\u001b[0m \u001b[38;5;66;03m# The code below prevents the output from being displayed\u001b[39;00m\n\u001b[1;32m   2372\u001b[0m \u001b[38;5;66;03m# when using magics with decodator @output_can_be_silenced\u001b[39;00m\n\u001b[1;32m   2373\u001b[0m \u001b[38;5;66;03m# when the last Python token in the expression is a ';'.\u001b[39;00m\n\u001b[1;32m   2374\u001b[0m \u001b[38;5;28;01mif\u001b[39;00m \u001b[38;5;28mgetattr\u001b[39m(fn, magic\u001b[38;5;241m.\u001b[39mMAGIC_OUTPUT_CAN_BE_SILENCED, \u001b[38;5;28;01mFalse\u001b[39;00m):\n",
      "File \u001b[0;32m~/opt/anaconda3/lib/python3.9/site-packages/IPython/core/magics/execution.py:708\u001b[0m, in \u001b[0;36mExecutionMagics.run\u001b[0;34m(self, parameter_s, runner, file_finder)\u001b[0m\n\u001b[1;32m    706\u001b[0m     \u001b[38;5;28;01mif\u001b[39;00m os\u001b[38;5;241m.\u001b[39mname \u001b[38;5;241m==\u001b[39m \u001b[38;5;124m'\u001b[39m\u001b[38;5;124mnt\u001b[39m\u001b[38;5;124m'\u001b[39m \u001b[38;5;129;01mand\u001b[39;00m re\u001b[38;5;241m.\u001b[39mmatch(\u001b[38;5;124mr\u001b[39m\u001b[38;5;124m\"\u001b[39m\u001b[38;5;124m^\u001b[39m\u001b[38;5;124m'\u001b[39m\u001b[38;5;124m.*\u001b[39m\u001b[38;5;124m'\u001b[39m\u001b[38;5;124m$\u001b[39m\u001b[38;5;124m\"\u001b[39m,fpath):\n\u001b[1;32m    707\u001b[0m         warn(\u001b[38;5;124m'\u001b[39m\u001b[38;5;124mFor Windows, use double quotes to wrap a filename: \u001b[39m\u001b[38;5;132;01m%r\u001b[39;00m\u001b[38;5;124mun \u001b[39m\u001b[38;5;124m\"\u001b[39m\u001b[38;5;124mmypath\u001b[39m\u001b[38;5;130;01m\\\\\u001b[39;00m\u001b[38;5;124mmyfile.py\u001b[39m\u001b[38;5;124m\"\u001b[39m\u001b[38;5;124m'\u001b[39m)\n\u001b[0;32m--> 708\u001b[0m     \u001b[38;5;28;01mraise\u001b[39;00m \u001b[38;5;167;01mException\u001b[39;00m(msg) \u001b[38;5;28;01mfrom\u001b[39;00m \u001b[38;5;21;01me\u001b[39;00m\n\u001b[1;32m    709\u001b[0m \u001b[38;5;28;01mexcept\u001b[39;00m \u001b[38;5;167;01mTypeError\u001b[39;00m:\n\u001b[1;32m    710\u001b[0m     \u001b[38;5;28;01mif\u001b[39;00m fpath \u001b[38;5;129;01min\u001b[39;00m sys\u001b[38;5;241m.\u001b[39mmeta_path:\n",
      "\u001b[0;31mException\u001b[0m: File `'run1.py'` not found."
     ]
    }
   ],
   "source": [
    "%run run1.py\n"
   ]
  },
  {
   "cell_type": "code",
   "execution_count": null,
   "id": "e777432a-63ee-4702-befc-f8270bf4e9f8",
   "metadata": {},
   "outputs": [],
   "source": [
    "\n"
   ]
  },
  {
   "cell_type": "code",
   "execution_count": null,
   "id": "1b37f9e0-9880-468d-829a-90c7c087afbb",
   "metadata": {},
   "outputs": [],
   "source": []
  }
 ],
 "metadata": {
  "kernelspec": {
   "display_name": "Python 3 (ipykernel)",
   "language": "python",
   "name": "python3"
  },
  "language_info": {
   "codemirror_mode": {
    "name": "ipython",
    "version": 3
   },
   "file_extension": ".py",
   "mimetype": "text/x-python",
   "name": "python",
   "nbconvert_exporter": "python",
   "pygments_lexer": "ipython3",
   "version": "3.9.16"
  }
 },
 "nbformat": 4,
 "nbformat_minor": 5
}
