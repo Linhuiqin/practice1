{
 "cells": [
  {
   "cell_type": "code",
   "execution_count": 3,
   "id": "1bfc2a7b-83bf-4bd1-aba9-d70a6ae69417",
   "metadata": {},
   "outputs": [],
   "source": [
    "from selenium import webdriver\n",
    "\n",
    "browser=webdriver.Chrome()\n",
    "browser.get('https://uland.taobao.com/coupon/edetail?spm=a2e1u.27659560.d1661852343037.22.44a2ae1bhecfX2&e=QZoPbo3dreoNfLV8niU3R2SW7JwcTWmjNGpc351w7Si76rfoZMhIWPwDq0%2Fq3PSIB6pzWntkCznMkLvihPv3MPWc3LK5O9NcNg4Gqf8CT4BnmB%2Fzds2ljUdhsBjlEoDRkJf7YuYc5HQoK5thQB8HbEdpY4yBqnJCylncSTIiEtBw5EJh%2BgxQoTD%2BK3tgk1mSBEoaIN4Ose7k9G%2BTLKWarK19zMs2KB7mtYEpV5MPQvU5IFl%2FrjH0JX4xzDU8bGCka6FwRT%2BqM%2Fg%3D&app_pvid=59590_33.44.72.203_957_1694693369962&ptl=floorId%3A61783%3Bapp_pvid%3A59590_33.44.72.203_957_1694693369962%3Btpp_pvid%3A628d26dd-6b84-4b72-bd78-f9c820cf6c0d&union_lens=lensId%3AOPT%401662363370%40210539ca_0a35_1830c9402ea_03f5%400268Is0BRqH5HyqwvTqI0yzm%40eyJmbG9vcklkIjo2MTc4M30ie%3Bscm%3A1007.15348.115058.0_61783_628d26dd-6b84-4b72-bd78-f9c820cf6c0d%3Brecoveryid%3A201_33.7.200.130_2104638_1694693366590%3Bprepvid%3A201_33.7.200.130_2104638_1694693366590&pid=mm_3083598566_2683050047_113210150123')\n",
    "#print(browser.page_source)\n",
    "browser.close()"
   ]
  },
  {
   "cell_type": "code",
   "execution_count": null,
   "id": "d4dafffb-aa13-4c87-9df7-ae6a6975b203",
   "metadata": {},
   "outputs": [],
   "source": []
  },
  {
   "cell_type": "code",
   "execution_count": null,
   "id": "a86202f3-36af-4fa6-ba65-fa319e4fea0b",
   "metadata": {},
   "outputs": [],
   "source": []
  }
 ],
 "metadata": {
  "kernelspec": {
   "display_name": "Python 3 (ipykernel)",
   "language": "python",
   "name": "python3"
  },
  "language_info": {
   "codemirror_mode": {
    "name": "ipython",
    "version": 3
   },
   "file_extension": ".py",
   "mimetype": "text/x-python",
   "name": "python",
   "nbconvert_exporter": "python",
   "pygments_lexer": "ipython3",
   "version": "3.9.16"
  }
 },
 "nbformat": 4,
 "nbformat_minor": 5
}
