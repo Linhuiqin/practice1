{
 "cells": [
  {
   "cell_type": "code",
   "execution_count": 30,
   "id": "789c7791-2819-4ea2-b2a5-d6173245ab40",
   "metadata": {},
   "outputs": [
    {
     "name": "stdout",
     "output_type": "stream",
     "text": [
      "<class 'bs4.BeautifulSoup'> <class 'requests.models.Response'> <class 'str'>\n",
      "城市：三亚 \n",
      " 温度：28度 \n",
      " 天气：雷阵雨\n"
     ]
    },
    {
     "data": {
      "text/plain": [
       "'当前天气信息天气：雷阵雨 28℃体感：28℃风向：北风风力：0级气压：1003湿度：95%日出：06:26日落：18:59'"
      ]
     },
     "execution_count": 30,
     "metadata": {},
     "output_type": "execute_result"
    }
   ],
   "source": [
    "#从网页获取天气练习，以中国天气网为例，先获取一个城市信息\n",
    "#城市名称在strong标签下，父标签时div-Citychangewrap,父标签div- weather-row\n",
    "import requests\n",
    "from bs4 import BeautifulSoup\n",
    "r=requests.get('https://tianqi.so.com/weather/101310201')\n",
    "r2=r.content.decode('utf-8')\n",
    "r3=r.text\n",
    "#print(r.status_code,r.text[1000:2000])\n",
    "soup=BeautifulSoup(r3,\"html.parser\")\n",
    "print(type(soup),type(r),type(r2))\n",
    "#soup.find('div',class_=\"city-change-wrap\")#会获得该标签该类下的所有内容（包括标签本身）\n",
    "#soup.find('div',class_=\"city-change-wrap\").text#会获得该标签该类下的所有文本（只有字符串）\n",
    "cityname=soup.find('strong',class_=\"change-title\").text\n",
    "temp=soup.find('div',class_=\"temperature\").text\n",
    "weath=soup.find('strong',class_=\"\").text\n",
    "print('城市：'+cityname,'\\n','温度：'+temp+'度','\\n','天气：'+weath)\n",
    "soup.find('div',class_='cur-weather g-fl').text"
   ]
  },
  {
   "cell_type": "code",
   "execution_count": 13,
   "id": "3b645bd5-7a71-41ef-8a42-328075ffbe3f",
   "metadata": {},
   "outputs": [
    {
     "name": "stdout",
     "output_type": "stream",
     "text": [
      "200 37\n"
     ]
    }
   ],
   "source": [
    "#爬取某综艺评论数据，做一个情感分析，看看大伙对这个综艺的态度\n",
    "import requests,json\n",
    "url='https://comment.mgtv.com/v4/comment/getCommentList?page=3&subjectType=hunantv2014&subjectId=4327535&callback=jQuery0875229918340201_1694337190699&_support=10000000'\n",
    "r=requests.get(url)\n",
    "print(r.status_code,r.text.find('{'))#response.text.find('{')这行代码可获取r中第一个{的位置数\n",
    "text=r.text[r.text.find('{'):-1]#这步为格式化获取到的字符串，即去头尾，让它符合json数据格式\n",
    "json_data=json.loads(text)\n",
    "\n",
    "\n"
   ]
  },
  {
   "cell_type": "code",
   "execution_count": null,
   "id": "7bf3f904-d349-474d-a54d-63a43cde9743",
   "metadata": {},
   "outputs": [],
   "source": []
  },
  {
   "cell_type": "code",
   "execution_count": null,
   "id": "89c15539-7958-4844-af8e-127eacceaf9d",
   "metadata": {},
   "outputs": [],
   "source": []
  }
 ],
 "metadata": {
  "kernelspec": {
   "display_name": "Python 3 (ipykernel)",
   "language": "python",
   "name": "python3"
  },
  "language_info": {
   "codemirror_mode": {
    "name": "ipython",
    "version": 3
   },
   "file_extension": ".py",
   "mimetype": "text/x-python",
   "name": "python",
   "nbconvert_exporter": "python",
   "pygments_lexer": "ipython3",
   "version": "3.9.16"
  }
 },
 "nbformat": 4,
 "nbformat_minor": 5
}
