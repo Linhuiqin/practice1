{
 "cells": [
  {
   "cell_type": "code",
   "execution_count": 1,
   "id": "d54c5563-d7b1-4b1b-b8a3-9d128ba7af78",
   "metadata": {},
   "outputs": [
    {
     "name": "stdout",
     "output_type": "stream",
     "text": [
      "[0, 1, 4, 9, 16, 25, 36, 49, 64, 81]\n",
      "[0, 2, 4, 6, 8, 10, 12, 14, 16, 18]\n",
      "None\n",
      "49\n",
      "<class 'NoneType'>\n",
      "[0, 2, 4, 6, 8, 10, 12, 14, 16, 18]\n"
     ]
    },
    {
     "data": {
      "text/plain": [
       "[(0, 0), (1, 1), (2, 8), (3, 27)]"
      ]
     },
     "execution_count": 1,
     "metadata": {},
     "output_type": "execute_result"
    }
   ],
   "source": [
    "'''\n",
    "标准库函数math学习\n",
    "'''\n",
    "name_='huiqin'\n",
    "age=3\n",
    "school_name=['zhiying','huiqin','xiaoyu','dazhi']\n",
    "school_age=['12','23','33','13']\n",
    "school_job=['doctor','mate','driver']\n",
    "school_name_dic={'zhiying':'q','huiqin':'w','xiaoyu':'e','dazhi':'f'}\n",
    "school_list_dic={'afdfsdf':444443,'hui':675,'xyu':41,'daz':45}\n",
    "school_name.pop(2)\n",
    "\n",
    "\n",
    "squares=[x**2 for x in range(10)]\n",
    "squares2=list(map(lambda x:x*2,range(10)))\n",
    "print(squares)\n",
    "print(squares2)\n",
    "#squares.extend(squares2)\n",
    "#squares[len(squares):]=[squares2]\n",
    "print(squares.insert(1,699))\n",
    "print(squares.pop(8))\n",
    "print(type(squares.clear()))\n",
    "print(squares2)\n",
    "[(x,y) for x in [1,2,3] for y in [3,4,5] if x!=y]\n",
    "[(x,x**3) for x in range(4)]"
   ]
  },
  {
   "cell_type": "code",
   "execution_count": 2,
   "id": "0bf3cc16-ee50-4ae6-8b4f-d5666c3ece27",
   "metadata": {},
   "outputs": [
    {
     "data": {
      "text/plain": [
       "deque([2, 3, 4])"
      ]
     },
     "execution_count": 2,
     "metadata": {},
     "output_type": "execute_result"
    }
   ],
   "source": [
    "from IPython.core.interactiveshell import InteractiveShell\n",
    "InteractiveShell.ast_node_interactivity = \"all\"\n",
    "from collections import deque\n",
    "stacks=deque([1,2,3])\n",
    "stacks.append(4)\n",
    "stacks\n",
    "stacks.popleft()\n",
    "stacks"
   ]
  },
  {
   "cell_type": "code",
   "execution_count": 3,
   "id": "a9a57193-052e-46bf-ba8b-95b80a7bc4b6",
   "metadata": {},
   "outputs": [
    {
     "data": {
      "text/plain": [
       "'.'"
      ]
     },
     "execution_count": 3,
     "metadata": {},
     "output_type": "execute_result"
    },
    {
     "data": {
      "text/plain": [
       "65"
      ]
     },
     "execution_count": 3,
     "metadata": {},
     "output_type": "execute_result"
    },
    {
     "data": {
      "text/plain": [
       "78"
      ]
     },
     "execution_count": 3,
     "metadata": {},
     "output_type": "execute_result"
    },
    {
     "data": {
      "text/plain": [
       "97"
      ]
     },
     "execution_count": 3,
     "metadata": {},
     "output_type": "execute_result"
    },
    {
     "data": {
      "text/plain": [
       "110"
      ]
     },
     "execution_count": 3,
     "metadata": {},
     "output_type": "execute_result"
    },
    {
     "name": "stdout",
     "output_type": "stream",
     "text": [
      "A 65\n",
      "B 66\n",
      "C 67\n",
      "D 68\n",
      "E 69\n",
      "F 70\n",
      "G 71\n",
      "H 72\n",
      "I 73\n",
      "J 74\n",
      "K 75\n",
      "L 76\n",
      "M 77\n",
      "N 78\n",
      "O 79\n",
      "P 80\n",
      "Q 81\n",
      "R 82\n",
      "S 83\n",
      "T 84\n",
      "U 85\n",
      "V 86\n",
      "W 87\n",
      "X 88\n",
      "Y 89\n",
      "Z 90\n",
      "a 97\n",
      "b 98\n",
      "c 99\n",
      "d 100\n",
      "e 101\n",
      "f 102\n",
      "g 103\n",
      "h 104\n",
      "i 105\n",
      "j 106\n",
      "k 107\n",
      "l 108\n",
      "m 109\n",
      "n 110\n",
      "o 111\n",
      "p 112\n",
      "q 113\n",
      "r 114\n",
      "s 115\n",
      "t 116\n",
      "u 117\n",
      "v 118\n",
      "w 119\n",
      "x 120\n",
      "y 121\n",
      "z 122\n"
     ]
    }
   ],
   "source": [
    "import this\n",
    "\n",
    "from IPython.core.interactiveshell import InteractiveShell\n",
    "InteractiveShell.ast_node_interactivity = \"all\"\n",
    "chr(46)\n",
    "ord('A')\n",
    "ord('N')\n",
    "ord('a')\n",
    "ord('n')\n",
    "for c in (65,97):\n",
    "    for i in range(26):\n",
    "        print(chr(i+c),i+c)"
   ]
  },
  {
   "cell_type": "code",
   "execution_count": 2,
   "id": "01e60a23-58ad-40c1-b05b-434cd39350d1",
   "metadata": {},
   "outputs": [
    {
     "name": "stdout",
     "output_type": "stream",
     "text": [
      "V I\n",
      "s f\n",
      "-  \n",
      " t\n",
      "u h\n",
      "r e\n",
      "-  \n",
      "v i\n",
      "z m\n",
      "} p\n",
      "y l\n",
      "r e\n",
      "z m\n",
      "r e\n",
      "{ n\n",
      " t\n",
      "n a\n",
      " t\n",
      "v i\n",
      "| o\n",
      "{ n\n",
      "-  \n",
      "v i\n",
      " s\n",
      "-  \n",
      "r e\n",
      "n a\n",
      " s\n",
      " y\n",
      "-  \n",
      " t\n",
      "| o\n",
      "-  \n",
      "r e\n",
      "",
      " x\n",
      "} p\n",
      "y l\n",
      "n a\n",
      "v i\n",
      "{ n\n",
      "9 ,\n",
      "-  \n",
      "v i\n",
      " t\n",
      "-  \n",
      "z m\n",
      "n a\n",
      " y\n",
      "-  \n",
      "o b\n",
      "r e\n",
      "-  \n",
      "n a\n",
      "-  \n",
      "t g\n",
      "| o\n",
      "| o\n",
      "q d\n",
      "-  \n",
      "v i\n",
      "q d\n",
      "r e\n",
      "n a\n",
      "; .\n",
      "\u0017 \n",
      "\n",
      "[ N\n",
      "n a\n",
      "z m\n",
      "r e\n",
      " s\n",
      "} p\n",
      "n a\n",
      "p c\n",
      "r e\n",
      " s\n",
      "-  \n",
      "n a\n",
      " r\n",
      "r e\n",
      "-  \n",
      "| o\n",
      "{ n\n",
      "r e\n",
      "-  \n",
      "u h\n",
      "| o\n",
      "{ n\n",
      "x k\n",
      "v i\n",
      "{ n\n",
      "t g\n",
      "-  \n",
      "t g\n",
      " r\n",
      "r e\n",
      "n a\n",
      " t\n",
      "-  \n",
      "v i\n",
      "q d\n",
      "r e\n",
      "n a\n",
      "-  \n",
      ": -\n",
      ": -\n",
      "-  \n",
      "y l\n",
      "r e\n",
      " t\n",
      "4 '\n",
      " s\n",
      "-  \n",
      "q d\n",
      "| o\n",
      "-  \n",
      "z m\n",
      "| o\n",
      " r\n",
      "r e\n",
      "-  \n",
      "| o\n",
      "s f\n",
      "-  \n",
      " t\n",
      "u h\n",
      "| o\n",
      " s\n",
      "r e\n",
      ". !\n",
      "Vs-ur-vz}yrzr{nv|{-v-rn-|-r",
      "}ynv{9-v-zn-or-n-t||q-vqrn;\u0017[nzr}npr-nr-|{r-u|{xv{t-trn-vqrn-::-yr4-q|-z|r-|s-u|r.\n"
     ]
    }
   ],
   "source": [
    "s='''If the implementation is easy to explain, it may be a good idea.\n",
    "Namespaces are one honking great idea -- let's do more of those!'''\n",
    "\n",
    "d={}\n",
    "q=0\n",
    "\n",
    "for i in s:\n",
    "    n=ord(i)+13\n",
    "    print(chr(n),i)\n",
    "    d[q]=chr(n)\n",
    "    q=q+1\n",
    "print(\"\".join([d.get(c,c) for c in d]))"
   ]
  },
  {
   "cell_type": "code",
   "execution_count": 7,
   "id": "29d8fd59-7f23-484c-8806-d97a77307455",
   "metadata": {},
   "outputs": [
    {
     "data": {
      "text/plain": [
       "'<!doctype html><html  data-head-attrs=\"\"><head><meta charset=\"utf-8\"><meta name=\"viewport\" content=\"width=device-width,initial-scale=1,minimum-scale=1,maximum-scale=1,user-scalable=no,viewport-fit=cover\"><meta name=\"format-detection\" content=\"telephone=no,address=no,email=no\"><meta name=\"mobileOptimized\" content=\"width\"><meta name=\"HandheldFriendly\" content=\"true\"><meta name=\"applicable-device\" content=\"pc,mobile\"><meta http-equiv=\"X-UA-Compatible\" content=\"IE=Edge,chrome=1\"><meta http-equiv=\"Cache-Control\" content=\"no-transform\"><meta http-equiv=\"Cache-Control\" content=\"no-siteapp\"><meta name=\"apple-mobile-web-app-capable\" content=\"yes\"><meta name=\"apple-mobile-web-app-status-bar-style\" content=\"black\"><link rel=\"shortcut icon\" href=\"https://www.xiaohongshu.com/favicon.ico\"><title>滑块验证</title><script>window.__ERROR_TRACKER_BUFFER__=[],window.onerror=function(o,n,R,_,e){window.__ERROR_TRACKER_BUFFER__.push({error:e||o,extra:{source:n,lineno:R,colno:_}}),(new Image).src=\"//www.xiaohongshu.com/eplDKtpK4k.txt?l=\"+location.href+\"&a=\"+o+\"&b=\"+n+\"&c=\"+R+\"&d=\"+_+\"&e=\"+e.stack}</script><script>!function(){var e=function(e){var t={};function n(o){if(t[o])return t[o].exports;var r=t[o]={i:o,l:!1,exports:{}};return e[o].call(r.exports,r,r.exports,n),r.l=!0,r.exports}return n.m=e,n.c=t,n.d=function(e,t,o){n.o(e,t)||Object.defineProperty(e,t,{enumerable:!0,get:o})},n.r=function(e){\"undefined\"!=typeof Symbol&&Symbol.toStringTag&&Object.defineProperty(e,Symbol.toStringTag,{value:\"Module\"}),Object.defineProperty(e,\"__esModule\",{value:!0})},n.t=function(e,t){if(1&t&&(e=n(e)),8&t)return e;if(4&t&&\"object\"==typeof e&&e&&e.__esModule)return e;var o=Object.create(null);if(n.r(o),Object.defineProperty(o,\"default\",{enumerable:!0,value:e}),2&t&&\"string\"!=typeof e)for(var r in e)n.d(o,r,function(t){return e[t]}.bind(null,r));return o},n.n=function(e){var t=e&&e.__esModule?function(){return e.default}:function(){return e};return n.d(t,\"a\",t),t},n.o=function(e,t){return Object.prototype.hasOwnProperty.call(e,t)},n.p=\"\",n(n.s=1)}([function(e,t,n){\"use strict\";Object.defineProperty(t,\"__esModule\",{value:!0}),t.default=function(e){return!(e instanceof HTMLHeadElement||e instanceof HTMLMetaElement||e instanceof HTMLLinkElement||e instanceof HTMLStyleElement||e instanceof HTMLScriptElement||e instanceof SVGElement||\"none\"===getComputedStyle(e).display)}},function(e,t,n){\"use strict\";Object.defineProperty(t,\"__esModule\",{value:!0}),t.observe=function(){if(window.MutationObserver&&window.performance&&performance.timing){window.__FP__=0,window.__FCP__=0,window.__FMP_OBSERVED_POINTS__=[],window.__FULLY_LOADED__=0;var e=void 0,t=0,n={},u=void 0,a=void 0;(e=new MutationObserver((function(e){e.forEach((function(e){\"childList\"===e.type?function e(n){for(var r=function(r){var u=n[r];0===window.__FP__&&u instanceof HTMLBodyElement&&(window.__FP__=Date.now()-performance.timing.navigationStart),0===window.__FCP__&&(0,i.default)(u)&&(window.__FCP__=Date.now()-performance.timing.navigationStart),u instanceof HTMLElement&&(0,o.default)(u)&&(_(t,!1),function(e){function t(){_(e)}u.addEventListener(\"load\",t),u.addEventListener(\"error\",t)}(t++)),u.childNodes&&e(u.childNodes)},u=0;u<n.length;u++)r(u)}(e.addedNodes):\"attributes\"===e.type&&function(e){(0,o.default)(e)&&(_(t,!1),function(t){function n(){_(t)}e.addEventListener(\"load\",n),e.addEventListener(\"error\",n)}(t++))}(e.target)})),function(){if(document.body){var e=document.body.clientHeight,t=window.innerHeight,n=(0,r.default)(document.body),o=window.__FMP_OBSERVED_POINTS__.length,i=window.__FMP_OBSERVED_POINTS__[o-1],u=i?n-i.allElementsNumber:n;window.__FMP_OBSERVED_POINTS__.push({t:Date.now()-performance.timing.navigationStart,layoutSignificance:u/Math.max(1,e/t),allElementsNumber:n})}}()}))).observe(document,{childList:!0,subtree:!0,attributes:!0,attributeFilter:[\"src\"]}),function(){var e=XMLHttpRequest.prototype.send;XMLHttpRequest.prototype.send=function(){var n=this;_(t,!1),function(e){n.addEventListener(\"readystatechange\",(function(){4===n.readyState&&_(e)}))}(t++);for(var o=arguments.length,r=Array(o),i=0;i<o;i++)r[i]=arguments[i];return e.apply(this,r)}}()}function _(t){var o=!(arguments.length>1&&void 0!==arguments[1])||arguments[1];if(0===window.__FULLY_LOADED__)if(o){n[t].end=Date.now();var r=Object.keys(n).some((function(e){return!n[e].end}));r||(a=t,u=setTimeout((function(){e.disconnect();var t=n[a].end;window.__FULLY_LOADED__=t-performance.timing.navigationStart,window.__FMP_OBSERVED_POINTS__=window.__FMP_OBSERVED_POINTS__.filter((function(e){return e.t<=window.__FULLY_LOADED__}));var o=new CustomEvent(\"__fullyloaded__\",{detail:{firstPaint:window.__FP__,firstContentfulPaint:window.__FCP__,fullyLoaded:window.__FULLY_LOADED__,observedPoints:window.__FMP_OBSERVED_POINTS__}});window.dispatchEvent(o)}),2e3))}else{var i=Date.now();n[t]={start:i},u&&i<n[a].end+2e3&&clearTimeout(u)}}};var o=u(n(2)),r=u(n(3)),i=u(n(4));function u(e){return e&&e.__esModule?e:{default:e}}},function(e,t,n){\"use strict\";Object.defineProperty(t,\"__esModule\",{value:!0}),t.default=function(e){return\"IMG\"===e.tagName&&e.src}},function(e,t,n){\"use strict\";Object.defineProperty(t,\"__esModule\",{value:!0}),t.default=function e(t){if(!(0,o.default)(t))return 0;var n=1;if(t.children)for(var r=0;r<t.children.length;r++)n+=e(t.children[r]);return n};var o=function(e){return e&&e.__esModule?e:{default:e}}(n(0))},function(e,t,n){\"use strict\";Object.defineProperty(t,\"__esModule\",{value:!0}),t.default=function(e){return!!(e instanceof Text&&e.parentNode&&(0,o.default)(e.parentNode)&&e.textContent&&e.textContent.trim())};var o=function(e){return e&&e.__esModule?e:{default:e}}(n(0))}]);e.observe()}()</script><script>window.__KONG_HTML__</script><link rel=\"dns-prefetch\" href=\"fe-static.xhscdn.com\"><link rel=\"dns-prefetch\" href=\"fe-img-qc.xhscdn.com\"><link rel=\"dns-prefetch\" href=\"ci.xiaohongshu.com\"><link rel=\"dns-prefetch\" href=\"qimg.xiaohongshu.com\"><link rel=\"dns-prefetch\" href=\"img.xiaohongshu.com\"><link rel=\"dns-prefetch\" href=\"fe-video-qc.xhscdn.com\"><link rel=\"preconnect\" href=\"fe-static.xhscdn.com\" crossorigin><link rel=\"preconnect\" href=\"fe-img-qc.xhscdn.com\" crossorigin><link rel=\"preconnect\" href=\"ci.xiaohongshu.com\" crossorigin><link rel=\"preconnect\" href=\"qimg.xiaohongshu.com\" crossorigin><link rel=\"preconnect\" href=\"img.xiaohongshu.com\" crossorigin><link rel=\"preconnect\" href=\"fe-video-qc.xhscdn.com\" crossorigin><script>const ErrorTrackerKey=\"__APM__ResourceErrorTracker__\";function noEaglet(){return!window.eaglet||void 0===window.eaglet.push||\"function\"!=typeof window.eaglet.push}function sendMetrics(e={}){if(0!==Object.keys(e).length)if(noEaglet())try{const r=localStorage.getItem(ErrorTrackerKey),t=r?JSON.parse(r):[];500===t.length&&t.shift(),e.projectName=\"login\",localStorage.setItem(ErrorTrackerKey,JSON.stringify(t.concat(e)))}catch(e){console.error(e)}else if(!0===window.eaglet.supportResourceError){const r={browserResourceError:{type:\"BrowserResourceError\",value:[e]}};window.eaglet.push({browserApmTracker:{type:\"BrowserApmTracker\",value:r}},\"ApmTracker\")}}function formatResourceErrorData(e,r){return e&&\"\"!==e&&r?{name:e,initiatorType:r,clientEventTime:String(Date.now())}:{}}function getInitiatorType(e){return e instanceof HTMLScriptElement?\"script\":e instanceof HTMLLinkElement?\"link\":e instanceof HTMLImageElement?\"img\":null}function getName(e,r){switch(e){case\"img\":return r.target.currentSrc||r.target.src;case\"script\":return r.target.src;case\"link\":return r.target.href;default:return null}}function resourceLoadErrorListener(e){const r=getInitiatorType(e.target);if((\"img\"!==r||e.target.src!==window.location.href)&&r){const t=getName(r,e);if(t){sendMetrics(formatResourceErrorData(t,r))}}}window.addEventListener(\"error\",resourceLoadErrorListener,!0)</script><link href=\"//fe-static.xhscdn.com/formula-static/login/public/css/allStyle.1b9de0b.css\" rel=\"stylesheet\" crossorigin><script src=\"//fe-static.xhscdn.com/formula-static/login/public/js/runtime-main.73c8d9f.js\" defer=\"defer\" crossorigin xhs-integrity=\"\"></script><script src=\"//fe-static.xhscdn.com/formula-static/login/public/js/main.b0fea1d.js\" defer=\"defer\" crossorigin xhs-integrity=\"\"></script><script>function setPixel(){function e(){var e=Math.min(60,document.documentElement.clientWidth/375*50);document.documentElement.style.fontSize=e+\"px\"}\"boolean\"!=typeof window.isResponsive||window.isResponsive?(e(),window.addEventListener(\"orientationchange\"in window?\"orientationchange\":\"resize\",e,!1)):document.documentElement.style.fontSize=\"50px\"}\"undefined\"!=typeof window&&setPixel()</script><script type=\"text/javascript\" charset=\"utf-8\" src=\"https://fe-video-qc.xhscdn.com/fe-platform/e5ef966ee6fa0a0c7c82a9cb9e1feed4435f8331.js\"></script><script type=\"text/javascript\" charset=\"utf-8\" src=\"https://fe-video-qc.xhscdn.com/fe-platform/78c6c8710e86d58d578297d0c2bf6ff904f9df5f.js\"></script><script>\\n            localStorage.setItem(\"sdt_source_storage_key\", JSON.stringify({\"signVersion\":\"1\",\"url\":\"https://fe-video-qc.xhscdn.com/fe-platform/e5ef966ee6fa0a0c7c82a9cb9e1feed4435f8331.js\",\"reportUrl\":\"/api/sec/v1/shield/webprofile\",\"desVersion\":\"2\",\"validate\":false,\"commonPatch\":[\"/fe_api/burdock/v2/note/post\",\"/api/sns/web/v1/comment/post\",\"/api/sns/web/v1/note/like\",\"/api/sns/web/v1/note/collect\",\"/api/sns/web/v1/user/follow\",\"/api/sns/web/v1/feed\",\"/api/sns/web/v1/login/activate\",\"/api/sns/web/v1/note/metrics_report\"],\"signUrl\":\"https://fe-video-qc.xhscdn.com/fe-platform/78c6c8710e86d58d578297d0c2bf6ff904f9df5f.js\"}))\\n            window[\"sdt_source_init\"] = true;\\n        </script></head><body  data-head-attrs=\"\"><div id=\"app\"><div class=\"capcha\" data-v-7bbec9ac><div class=\"loading\" style=\"\" data-v-7bbec9ac>正在加载...</div><div id=\"slider\" data-v-7bbec9ac></div><div class=\"feedback\" data-v-7bbec9ac><div class=\"feedback-btn\" data-v-7bbec9ac>我要反馈</div></div></div></div><script>window.__INITIAL_SSR_STATE__={}</script><script>window.__INITIAL_STATE__={}</script><script>function vue3Check(){void 0===window.Proxy&&alert(\"您当前系统版本过低，请升级后再试\")}vue3Check()</script></body></html>'"
      ]
     },
     "execution_count": 7,
     "metadata": {},
     "output_type": "execute_result"
    }
   ],
   "source": [
    "from IPython.core.interactiveshell import InteractiveShell\n",
    "InteractiveShell.ast_node_interactivity = \"all\"\n",
    "import urllib.request\n",
    "\n",
    "response=urllib.request.urlopen('https://www.xiaohongshu.com/user/profile/5decf996000000000100bc71?m_source=baidusem')\n",
    "response.read().decode('utf-8')\n",
    "\n"
   ]
  }
 ],
 "metadata": {
  "kernelspec": {
   "display_name": "Python 3 (ipykernel)",
   "language": "python",
   "name": "python3"
  },
  "language_info": {
   "codemirror_mode": {
    "name": "ipython",
    "version": 3
   },
   "file_extension": ".py",
   "mimetype": "text/x-python",
   "name": "python",
   "nbconvert_exporter": "python",
   "pygments_lexer": "ipython3",
   "version": "3.9.16"
  },
  "toc-autonumbering": true,
  "toc-showcode": false,
  "toc-showmarkdowntxt": true,
  "toc-showtags": false
 },
 "nbformat": 4,
 "nbformat_minor": 5
}
