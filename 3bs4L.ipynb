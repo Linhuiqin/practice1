{
 "cells": [
  {
   "cell_type": "code",
   "execution_count": 8,
   "id": "ed2957a1-c997-4194-b61b-2e35abd73188",
   "metadata": {},
   "outputs": [
    {
     "name": "stdout",
     "output_type": "stream",
     "text": [
      "<html><head><title>This is a python demo page</title></head>\n",
      "<body>\n",
      "<p class=\"title\"><b>The demo python introduces several python courses.</b></p>\n",
      "<p class=\"course\">Python is a wonderful general-purpose programming language. You can learn Python from novice to professional by tracking the following courses:\n",
      "<a href=\"http://www.icourse163.org/course/BIT-268001\" class=\"py1\" id=\"link1\">Basic Python</a> and <a href=\"http://www.icourse163.org/course/BIT-1001870001\" class=\"py2\" id=\"link2\">Advanced Python</a>.</p>\n",
      "</body></html>/n-------------\n",
      "<html>\n",
      " <head>\n",
      "  <title>\n",
      "   This is a python demo page\n",
      "  </title>\n",
      " </head>\n",
      " <body>\n",
      "  <p class=\"title\">\n",
      "   <b>\n",
      "    The demo python introduces several python courses.\n",
      "   </b>\n",
      "  </p>\n",
      "  <p class=\"course\">\n",
      "   Python is a wonderful general-purpose programming language. You can learn Python from novice to professional by tracking the following courses:\n",
      "   <a class=\"py1\" href=\"http://www.icourse163.org/course/BIT-268001\" id=\"link1\">\n",
      "    Basic Python\n",
      "   </a>\n",
      "   and\n",
      "   <a class=\"py2\" href=\"http://www.icourse163.org/course/BIT-1001870001\" id=\"link2\">\n",
      "    Advanced Python\n",
      "   </a>\n",
      "   .\n",
      "  </p>\n",
      " </body>\n",
      "</html>\n"
     ]
    }
   ],
   "source": [
    "#html是以尖括号为主的标签所封装的一些信息 这个程序只是为了测试有没有安装好bs4\n",
    "import requests\n",
    "from bs4 import BeautifulSoup\n",
    "r=requests.get('https://python123.io/ws/demo.html')\n",
    "print(r.text+'/n-------------')\n",
    "demo=r.text\n",
    "soup=BeautifulSoup(demo,\"html.parser\")#\"html.parser\"指的是解析html的解析器\n",
    "print(soup.prettify())#bs4成功解析了给出的html页面"
   ]
  },
  {
   "cell_type": "code",
   "execution_count": 28,
   "id": "c6f60e03-e0d7-4355-b06b-0569104ac849",
   "metadata": {},
   "outputs": [
    {
     "name": "stdout",
     "output_type": "stream",
     "text": [
      "<b>The demo python introduces several python courses.</b>\n",
      "b\n",
      "p\n",
      "body\n",
      "html\n",
      "{'href': 'http://www.icourse163.org/course/BIT-268001', 'class': ['py1'], 'id': 'link1'}\n",
      "['py1']\n",
      "<class 'dict'>\n",
      "<class 'bs4.element.Tag'>\n",
      "Basic Python\n",
      "The demo python introduces several python courses.\n"
     ]
    }
   ],
   "source": [
    "'''BeautifulSoup的基本元素学习\n",
    "5个，分别为tag，name，attributes,navigablestring,comment\n",
    "BeautifulSoup是一个可解析xml,htm的库，是解析parsing，遍历，维护标签树的功能库\n",
    "from bs4这是个库 import BeautifulSoup这是个类\n",
    "或者写成import bs4 可以理解为把htm这个文件中的标签树，转化为BeautifulSoup类\n",
    "也可以理解为htm文档=标签树=BeautifulSoup类，即三者等价\n",
    "通过BeautifulSoup类使得标签树形成一个变量'''\n",
    "\n",
    "#任何存在于html语法的标签都可以使用soup.tag的方式获取\n",
    "#如果存在多个相同的tag标签，用soup.tag只能返回其中的第一个\n",
    "from bs4 import BeautifulSoup\n",
    "r=requests.get('https://python123.io/ws/demo.html')\n",
    "demo=r.text\n",
    "soup=BeautifulSoup(demo,\"html.parser\")\n",
    "print(soup.b)#获取标签内容\n",
    "print(soup.b.name)#获取标签名字\n",
    "print(soup.b.parent.name)#获取b标签父类的名字\n",
    "print(soup.b.parent.parent.name)\n",
    "print(soup.b.parent.parent.parent.name)\n",
    "\n",
    "tag=soup.a\n",
    "print(tag.attrs)#获取a标签属性\n",
    "print(tag.attrs['class'])#获取a标签属性中class这个键所对应的值\n",
    "print(type(tag.attrs))#可以看到标签属性是个字典类型\n",
    "print(type(tag))#也就是说在bs4中讲标签定义了一种特殊的类型，就是bs4库中认可的一种类型\n",
    "\n",
    "#tag标签的navigablestring元素，这个元素是个string，表示尖括号标签之间的那部分字符串\n",
    "print(soup.a.string)#即a标签的具体内容\n",
    "print(soup.p.string)\n",
    "\n",
    "#tag的另外一种类型，comment类型，注释。表示如果htm页面中出现注释的内容该如何处理\n",
    "#htm中用尖括号加！表示一个注释的开始\n"
   ]
  },
  {
   "cell_type": "code",
   "execution_count": 14,
   "id": "fb17ec55-6894-4440-8c71-405171f5ff15",
   "metadata": {},
   "outputs": [
    {
     "data": {
      "text/plain": [
       "'基于bs4库的html内容遍历方法'"
      ]
     },
     "execution_count": 14,
     "metadata": {},
     "output_type": "execute_result"
    },
    {
     "name": "stdout",
     "output_type": "stream",
     "text": [
      "<html>\n",
      " <head>\n",
      "  <title>\n",
      "   This is a python demo page\n",
      "  </title>\n",
      " </head>\n",
      " <body>\n",
      "  <p class=\"title\">\n",
      "   <b>\n",
      "    The demo python introduces several python courses.\n",
      "   </b>\n",
      "  </p>\n",
      "  <p class=\"course\">\n",
      "   Python is a wonderful general-purpose programming language. You can learn Python from novice to professional by tracking the following courses:\n",
      "   <a class=\"py1\" href=\"http://www.icourse163.org/course/BIT-268001\" id=\"link1\">\n",
      "    Basic Python\n",
      "   </a>\n",
      "   and\n",
      "   <a class=\"py2\" href=\"http://www.icourse163.org/course/BIT-1001870001\" id=\"link2\">\n",
      "    Advanced Python\n",
      "   </a>\n",
      "   .\n",
      "  </p>\n",
      " </body>\n",
      "</html>\n"
     ]
    },
    {
     "data": {
      "text/plain": [
       "<head><title>This is a python demo page</title></head>"
      ]
     },
     "execution_count": 14,
     "metadata": {},
     "output_type": "execute_result"
    },
    {
     "data": {
      "text/plain": [
       "[<title>This is a python demo page</title>]"
      ]
     },
     "execution_count": 14,
     "metadata": {},
     "output_type": "execute_result"
    },
    {
     "data": {
      "text/plain": [
       "['\\n',\n",
       " <p class=\"title\"><b>The demo python introduces several python courses.</b></p>,\n",
       " '\\n',\n",
       " <p class=\"course\">Python is a wonderful general-purpose programming language. You can learn Python from novice to professional by tracking the following courses:\n",
       " <a class=\"py1\" href=\"http://www.icourse163.org/course/BIT-268001\" id=\"link1\">Basic Python</a> and <a class=\"py2\" href=\"http://www.icourse163.org/course/BIT-1001870001\" id=\"link2\">Advanced Python</a>.</p>,\n",
       " '\\n']"
      ]
     },
     "execution_count": 14,
     "metadata": {},
     "output_type": "execute_result"
    },
    {
     "data": {
      "text/plain": [
       "5"
      ]
     },
     "execution_count": 14,
     "metadata": {},
     "output_type": "execute_result"
    },
    {
     "data": {
      "text/plain": [
       "<p class=\"title\"><b>The demo python introduces several python courses.</b></p>"
      ]
     },
     "execution_count": 14,
     "metadata": {},
     "output_type": "execute_result"
    },
    {
     "name": "stdout",
     "output_type": "stream",
     "text": [
      "0 \n",
      "\n",
      "1 <p class=\"title\"><b>The demo python introduces several python courses.</b></p>\n",
      "2 \n",
      "\n",
      "3 <p class=\"course\">Python is a wonderful general-purpose programming language. You can learn Python from novice to professional by tracking the following courses:\n",
      "<a class=\"py1\" href=\"http://www.icourse163.org/course/BIT-268001\" id=\"link1\">Basic Python</a> and <a class=\"py2\" href=\"http://www.icourse163.org/course/BIT-1001870001\" id=\"link2\">Advanced Python</a>.</p>\n",
      "4 \n",
      "\n",
      "@@@@@@@@@@@ \n",
      "\n",
      "@@@@@@@@@@@ <p class=\"title\"><b>The demo python introduces several python courses.</b></p>\n",
      "@@@@@@@@@@@ \n",
      "\n",
      "@@@@@@@@@@@ <p class=\"course\">Python is a wonderful general-purpose programming language. You can learn Python from novice to professional by tracking the following courses:\n",
      "<a class=\"py1\" href=\"http://www.icourse163.org/course/BIT-268001\" id=\"link1\">Basic Python</a> and <a class=\"py2\" href=\"http://www.icourse163.org/course/BIT-1001870001\" id=\"link2\">Advanced Python</a>.</p>\n",
      "@@@@@@@@@@@ \n",
      "\n",
      "+++++++++++ \n",
      "\n",
      "+++++++++++ <p class=\"title\"><b>The demo python introduces several python courses.</b></p>\n",
      "+++++++++++ <b>The demo python introduces several python courses.</b>\n",
      "+++++++++++ The demo python introduces several python courses.\n",
      "+++++++++++ \n",
      "\n",
      "+++++++++++ <p class=\"course\">Python is a wonderful general-purpose programming language. You can learn Python from novice to professional by tracking the following courses:\n",
      "<a class=\"py1\" href=\"http://www.icourse163.org/course/BIT-268001\" id=\"link1\">Basic Python</a> and <a class=\"py2\" href=\"http://www.icourse163.org/course/BIT-1001870001\" id=\"link2\">Advanced Python</a>.</p>\n",
      "+++++++++++ Python is a wonderful general-purpose programming language. You can learn Python from novice to professional by tracking the following courses:\n",
      "\n",
      "+++++++++++ <a class=\"py1\" href=\"http://www.icourse163.org/course/BIT-268001\" id=\"link1\">Basic Python</a>\n",
      "+++++++++++ Basic Python\n",
      "+++++++++++  and \n",
      "+++++++++++ <a class=\"py2\" href=\"http://www.icourse163.org/course/BIT-1001870001\" id=\"link2\">Advanced Python</a>\n",
      "+++++++++++ Advanced Python\n",
      "+++++++++++ .\n",
      "+++++++++++ \n",
      "\n",
      "p <class 'bs4.element.Tag'> ////////\n",
      "body <class 'bs4.element.Tag'> ////////\n",
      "html <class 'bs4.element.Tag'> ////////\n",
      "[document] <class 'bs4.BeautifulSoup'> ////////\n"
     ]
    }
   ],
   "source": [
    "'''基于bs4库的html内容遍历方法'''\n",
    "\n",
    "#标签树的下行遍历 方法有contents,chirdren,descendants\n",
    "#contents返回的是列表类型,chirdren,descendants这两个返回的是迭代类型，只能用在for循环中\n",
    "from IPython.core.interactiveshell import InteractiveShell\n",
    "InteractiveShell.ast_node_interactivity = \"all\"\n",
    "from bs4 import BeautifulSoup\n",
    "import requests\n",
    "r=requests.get('https://python123.io/ws/demo.html')\n",
    "demo=r.text\n",
    "soup=BeautifulSoup(demo,\"html.parser\")\n",
    "print(soup.prettify())\n",
    "soup.head\n",
    "soup.head.contents#获得head的下行标签，返回类型是列表\n",
    "soup.body.contents\n",
    "len(soup.body.contents)#返回5，说明body的节点标签有5个\n",
    "soup.body.contents[1]\n",
    "#遍历儿子节点\n",
    "for i in range(0,5):\n",
    "    print(i,soup.body.contents[i])\n",
    "#遍历儿子节点\n",
    "for child in soup.body.children:\n",
    "    print('@@@@@@@@@@@',child)\n",
    "#遍历子孙节点，即每一节都全部迭代一遍，具体迭代的逻辑顺序还没去弄清楚  \n",
    "for child in soup.body.descendants:\n",
    "    print('+++++++++++',child)\n",
    "    \n",
    "#标签树的上行遍历，方法有parent（返回当前节点的父亲节点），parents（返回所有先辈节点）\n",
    "\n",
    "#遍历上行节点 对a标签所有先辈名字进行打印\n",
    "for parent in soup.a.parents:\n",
    "    if parent is None:#要注意，在遍历一个标签的所有先辈标签时，会遍历到soup\n",
    "        print(parent,'------')#本身，而soup的先辈并不存在.name的信息，因此需要做区分\n",
    "    else:\n",
    "        print(parent.name,type(parent),'////////')\n",
    "        \n",
    "#标签树的平行遍历，next_sibling,previous_sibling,next_siblings,previous_siblings\n",
    "#后两个是迭代类型，只能用在for循环中\n",
    "#平行遍历的条件-需发生在同一个父节点下的各节点间"
   ]
  },
  {
   "cell_type": "code",
   "execution_count": null,
   "id": "995b6195-91ad-40d6-92b6-3c57f89b8f7e",
   "metadata": {},
   "outputs": [],
   "source": [
    "#基于bs4库的html格式化和编码\n",
    "'''如何让html页面更加友好的显示，能更好地被程序读取和分析\n",
    "prettify方法能为html文本的标签以及内容增加换行符'''"
   ]
  }
 ],
 "metadata": {
  "kernelspec": {
   "display_name": "Python 3 (ipykernel)",
   "language": "python",
   "name": "python3"
  },
  "language_info": {
   "codemirror_mode": {
    "name": "ipython",
    "version": 3
   },
   "file_extension": ".py",
   "mimetype": "text/x-python",
   "name": "python",
   "nbconvert_exporter": "python",
   "pygments_lexer": "ipython3",
   "version": "3.9.16"
  }
 },
 "nbformat": 4,
 "nbformat_minor": 5
}
