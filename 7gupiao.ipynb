{
 "cells": [
  {
   "cell_type": "code",
   "execution_count": 2,
   "id": "510bb9f2-1ca3-4f3e-bdd0-9b412b51827c",
   "metadata": {},
   "outputs": [
    {
     "name": "stdout",
     "output_type": "stream",
     "text": [
      "<class 'list'> 明阳科技 837663 这里是测试\n",
      "序号   股票代码   股票名称\n",
      "1      837663    明阳科技\n",
      "2      300765    新诺威\n",
      "3      300097    智云股份\n",
      "4      300814    中富电路\n",
      "5      688651    盛邦安全\n",
      "6      300576    容大感光\n",
      "7      688496    清越科技\n",
      "8      872953    国子软件\n",
      "9      301421    波长光电\n",
      "10      688602    康鹏科技\n",
      "11      002565    顺灏股份\n",
      "12      603256    宏和科技\n",
      "13      000536    华映科技\n",
      "14      603963    大理药业\n",
      "15      002426    胜利精密\n",
      "16      600613    神奇制药\n",
      "17      603931    格林达\n",
      "18      000766    通化金马\n",
      "19      603322    超讯通信\n",
      "20      002941    新疆交建\n"
     ]
    }
   ],
   "source": [
    "#第一步 东方财富网单个页面股票及其代码爬取\n",
    "import requests\n",
    "import json\n",
    "r=requests.get('http://quote.eastmoney.com/center/gridlist.html#hs_a_board')\n",
    "r.encoding=r.apparent_encoding\n",
    "#print(r.status_code,r.text)\n",
    "url_1='http://33.push2.eastmoney.com/api/qt/clist/get?cb=jQuery112409809118551445144_1693321402421&pn=1&pz=20&po=1&np=1&ut=bd1d9ddb04089700cf9c27f6f7426281&fltt=2&invt=2&wbp2u=|0|0|0|web&fid=f3&fs=m:0+t:6,m:0+t:80,m:1+t:2,m:1+t:23,m:0+t:81+s:2048'\n",
    "r_1=requests.get(url_1)\n",
    "data_1=r_1.text\n",
    "\n",
    "head=len('''jQuery112409809118551445144_1693321402421({\"rc\":0,\"rt\":6,\"svr\":182995208,\"lt\":1,\"full\":1,\"dlmkts\":\"\",\"data\":{\"total\":5507,\"diff\":''')\n",
    "tail=len(\"}});\")\n",
    "data_1=data_1[head:-tail]#截取首位，让他符合json格式\n",
    "#print(type(data_1),data_1)\n",
    "data_1=json.loads(data_1)#data_1是个list容器。本来还在想这不是json格式那还不能用json方法处理数据\n",
    "#结果发现可以直接用，直接就用json的方法，通过键获取值\n",
    "print(type(data_1),data_1[0]['f14'],data_1[0]['f12'],\"这里是测试\")\n",
    "print(\"序号\",\"  股票代码\",\"  股票名称\")\n",
    "for i in range(20):\n",
    "    print(i+1,'    ',data_1[i]['f12'],'  ',data_1[i]['f14'])\n",
    "#晕倒每次打印的内容都不一样"
   ]
  },
  {
   "cell_type": "code",
   "execution_count": 60,
   "id": "2ae1f30f-8770-4c7d-8746-7bafa11c4886",
   "metadata": {},
   "outputs": [],
   "source": [
    "#第二步 百度股市通https://gushitong.baidu.com/stock/ab-002362\n",
    "东方财富网所有股票及其代码爬取\n",
    "url='https://gushitong.baidu.com/stock/ab-'\n",
    "gupiaocode=688591\n",
    "url_2="
   ]
  },
  {
   "cell_type": "code",
   "execution_count": null,
   "id": "163de258-1f91-447c-b59d-969ba76119e1",
   "metadata": {},
   "outputs": [],
   "source": []
  },
  {
   "cell_type": "code",
   "execution_count": null,
   "id": "0afd989d-efd4-4894-bcd8-376e8bc8ced0",
   "metadata": {},
   "outputs": [],
   "source": []
  },
  {
   "cell_type": "code",
   "execution_count": null,
   "id": "4bc1eac4-a85b-4f83-becc-37b359e18979",
   "metadata": {},
   "outputs": [],
   "source": []
  }
 ],
 "metadata": {
  "kernelspec": {
   "display_name": "Python 3 (ipykernel)",
   "language": "python",
   "name": "python3"
  },
  "language_info": {
   "codemirror_mode": {
    "name": "ipython",
    "version": 3
   },
   "file_extension": ".py",
   "mimetype": "text/x-python",
   "name": "python",
   "nbconvert_exporter": "python",
   "pygments_lexer": "ipython3",
   "version": "3.9.16"
  }
 },
 "nbformat": 4,
 "nbformat_minor": 5
}
