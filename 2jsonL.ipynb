{
 "cells": [
  {
   "cell_type": "code",
   "execution_count": 22,
   "id": "c981f5cd-86ce-46ac-958f-4b7a2cbe0b7c",
   "metadata": {},
   "outputs": [
    {
     "name": "stdout",
     "output_type": "stream",
     "text": [
      "404 page not found\n",
      "{\"error\":{\"message\":\"请求参数异常，请升级客户端后重试\",\"code\":10003}}\n",
      "\n"
     ]
    }
   ],
   "source": [
    "#通过找到ajax请求链接获取网页需要加载才能看到的信息 \n",
    "#这些加载信息通常在浏览器的开发者工具Network->XHR（或js）下的某一个链接里\n",
    "#Ajax 其实有其特殊的请求类型，它叫作 xhr\n",
    "#X-Requested-With:XMLHttpRequest，这就标记了此请求是 Ajax 请求\n",
    "#我总结的方法-打开开发者选项-显示页面源文件-点击网络选项-选择xhr选项-在网页\n",
    "#点击加载项-就可以看到ajax的请求借口网址了，直接用这个网址取获取网页内容\n",
    "'''import requests,re\n",
    "url_1='https://spa1.scrape.center/api/movie?limit=10&offset=0'\n",
    "res_1=requests.get(url_1,headers={'user-agent':'Mozilla/5.0(Windows NT 10.0; WOW64) AppleWebkkit/537.36 (KHTML, like Gecko) Chrome/70.0.3538.25 Safari/537.36 Core/1.70.3877.400 QQBrowser/10.8.4507.400)'})\n",
    "print(res_1.text)'''\n",
    "\n",
    "import requests,re\n",
    "data={}\n",
    "url_1='https://edith.xiaohongshu.com/api/sns/web/v1/feed'\n",
    "res_1=requests.get(url_1,headers={'user-agent':'Mozilla/5.0(Windows NT 10.0; WOW64) AppleWebkkit/537.36 (KHTML, like Gecko) Chrome/70.0.3538.25 Safari/537.36 Core/1.70.3877.400 QQBrowser/10.8.4507.400)'})\n",
    "print(res_1.text)\n",
    "#不行，应该是小红书还有他自己额外的加密处理\n",
    "\n",
    "url_2='https://www.zhihu.com/api/v4/comment_v5/answers/2741697970/root_comment?order_by=score&limit=20&offset='\n",
    "res_2=requests.get(url_2,headers={'user-agent':'Mozilla/5.0 (Macintosh; Intel Mac OS X 10_15_7) AppleWebKit/605.1.15 (KHTML, like Gecko) Version/16.6 Safari/605.1.15'})\n",
    "print(res_2.text)\n",
    "#这里是想提取动态页面，即需点击页面才会出现的知乎评论的内容，想提取这个内容。在网页的源文件可以看到内容\n",
    "#但是想用代码获取又不行，应该也是少了一些什么步骤"
   ]
  },
  {
   "cell_type": "code",
   "execution_count": 20,
   "id": "33cd0883-ec6d-445c-9f96-a2b82ffe2fc6",
   "metadata": {},
   "outputs": [
    {
     "name": "stdout",
     "output_type": "stream",
     "text": [
      "<Response [200]>\n",
      "['“哦，不是，我是火腿肠！”', '鬼还在耳朵里叫。', '3、', '“聊你妈。”', '嗯嗯，她好棒。', '5、', '近几十年都是在的。', '6、', '“毛衣穿反了。”', '所以长大了才没有兴趣上班。', '8、', '“你怎么不去卖烧饼？”', '9、', '结果，她醒了。', '没有人点赞的这些年，我都是咬着牙过来的。', '为了我的牙，就给我点个赞吧！', '11、', '不仅眼前一亮还可以亮瞎。', '你可以多出点份子钱。', '13、', '“你是本科还是硕士？”', '14、', '让我知道你也有今天。', '15、', '然后不回。', '16、', '钱都没给就跑回去了，现在在公安局。', '17、', '“老东西，爷爷我帮你提。”', '18、', '10×0=0。', '19、', '会不会想念我的菜？', '20、', '就再好好想想，怎么推卸给别人。', '愿屏幕前给我点赞的宝子们都能够开心幸福。❤️', '我自己坟头也会长。', '22、', '因为妈妈洗衣服的时候会口吐芬芳。', '是不是用生抽护的肤。', '如果家里条件允许的话，最好买条路。', '25、', '“再晚点，停尸房可就没位置了。”', '“是该换个5G了。”', '没想到成了舔狗。', '28、', '我想大概这就是亲人两行泪吧。', '29、', '“不可能啊，这就是昨天的粥。”', '你是不是要叫我爹？', '“那你同时追八个试试。”', '32、', '“你是妈了个巴子的小推车吗？”']\n"
     ]
    }
   ],
   "source": [
    "import requests,re\n",
    "\n",
    "\n",
    "url_1='http://lixiaolai.com/#/the-craft-of-selfteaching/'\n",
    "url_2='https://www.bilibili.com'\n",
    "url_3='https://www.zhihu.com/question/317039676/answer/2741697970'\n",
    "res_3=requests.get(url_3,headers={'user-agent':'Mozilla/5.0(Windows NT 10.0; WOW64) AppleWebkkit/537.36 (KHTML, like Gecko) Chrome/70.0.3538.25 Safari/537.36 Core/1.70.3877.400 QQBrowser/10.8.4507.400)'})\n",
    "retext_3=re.findall('<b>(.*?)</b>',res_3.text)\n",
    "print(res_2)#查看请求响应码\n",
    "print(retext_3)\n",
    "#这里可以获取网页上的内容，然后是如何把想要提取的内容提取出来，需要学文本存储类的内容"
   ]
  },
  {
   "cell_type": "code",
   "execution_count": null,
   "id": "ceeab496-b804-4750-9e46-659b35a20130",
   "metadata": {},
   "outputs": [],
   "source": [
    "'''方法2-直接使用selenium模块访问当前网址\n",
    "通过selenium访问网址时，是完全模拟浏览器进行访问的。因此即使网页使用了ajax技术，selenium也能获取相应数据\n",
    "Selenium 是一个自动化测试工具，利用它可以驱动浏览器执行特定的动作，如点击、下拉等操作，同时还可以获取浏览器\n",
    "当前呈现的页面的源代码，做到可见即可爬。对于一些 JavaScript 动态渲染的页面来说，此种抓取方式非常有效。'''\n",
    "#有个小小死胡同，就是安装selenium需要chrome浏览器，前提又需要VPN\n",
    "from selenium import webdriver\n",
    "url='https://www.zhihu.com/question/317039676/answer/2741697970'\n",
    "driver=webdriver.Chrome()\n",
    "driver.get(url=url)\n",
    "driver.implicitly_wait(15)#等待网页完全加载\n",
    "datas = driver.find_elements_by_xpath(\n",
    "    \"//div[@class='CommentListV2']/ul/li[@class!='NestComment--child']//*[contains(@class,'ztext')]\")\n",
    "for data in datas:\n",
    "    print(data.text)\n",
    "driver.close()"
   ]
  },
  {
   "cell_type": "code",
   "execution_count": 21,
   "id": "dba68f8d-e068-4816-b147-4bc3434da444",
   "metadata": {},
   "outputs": [
    {
     "name": "stdout",
     "output_type": "stream",
     "text": [
      "<class 'str'>\n",
      "[{'name': 'xiaoyu', 'gender': 'female', 'birthday': '1994-9-8'}, {'name': 'dazhi', 'gender': 'male', 'birthday': '1993-4-13'}]\n",
      "<class 'list'>\n",
      "dazhi\n",
      "1994-9-8\n",
      "None\n",
      "surfing\n",
      "[\n",
      "  {\n",
      "    \"time\": \"2023-8-10\",\n",
      "    \"event\": \"水翼教学\",\n",
      "    \"location\": \"郑州\"\n",
      "  }\n",
      "]\n",
      "[{'time': '2023-8-10', 'event': '水翼教学', 'location': '郑州'}] 78\n",
      "[{'第一站': '亭子码头', '第二站': '成都', '第三站': '重庆'}]\n"
     ]
    }
   ],
   "source": [
    "'''学习json的方法'''\n",
    "import json\n",
    "\n",
    "#一个json对象可以写为如下形式\n",
    "[\n",
    "    {\n",
    "     'name':'xiaoyu',\n",
    "     'gender':'female',\n",
    "     'birthday':'1994-9-8'\n",
    "    },\n",
    "    {\n",
    "        'name':'dazhi',\n",
    "        'gender':'male',\n",
    "        'birthday':'1993-4-13',\n",
    "    },\n",
    "];#由中括号包围的就相当于列表类型，列表中的每个元素可以是任意类型，这个示例中它是字典类型，由大括号包围\n",
    "#实际上json对象为python中的list和dict的嵌套和组合，这里称之为json对象\n",
    "\n",
    "\n",
    "'''loads方法介绍'''\n",
    "#这里有一段json形式的字符串，str类型，可将它装换为可操作的数据结构，如列表或字典\n",
    "str='''\n",
    "[{\n",
    "     \"name\":\"xiaoyu\",\n",
    "     \"gender\":\"female\",\n",
    "     \"birthday\":\"1994-9-8\"\n",
    "       },\n",
    "       {\n",
    "        \"name\":\"dazhi\",\n",
    "        \"gender\":\"male\",\n",
    "        \"birthday\":\"1993-4-13\"\n",
    "}]\n",
    "'''\n",
    "print(type(str))\n",
    "data=json.loads(str)#用loads方法把字符串转为json对象，由于最外层是中括号，所以最终类型是列表类型\n",
    "print(data)\n",
    "print(type(data))\n",
    "print(data[1]['name'])#转化为可操作数据结构的好处就是可以用索引来获取对应的内容\n",
    "print(data[0].get('birthday'))#这两个方法推荐用get方法，因为如果键名不存在不会报错，上一个方法会报错\n",
    "print(data[1].get('hobby'))\n",
    "print(data[1].get('hobby','surfing'))\n",
    "\n",
    "\n",
    "'''dumps方法介绍'''\n",
    "#总算有成功的部分了！差点放弃\n",
    "#使用with open(任意名字.json)as file这行代码，会自动在本地文件夹生成一个.json文件\n",
    "#以下代码是把想要的内容写自己定义的一个新json文件中，注意，如果该json文件已存在，则无法覆盖或者增加写入\n",
    "data=[{\n",
    "    'time':'2023-8-10',\n",
    "    'event':'水翼教学',\n",
    "    'location':'郑州'\n",
    "}]\n",
    "#with open('data1.json','w',encoding='utf-8')as file:\n",
    "#    file.write(json.dumps(data))\n",
    "#若文件内容为中文，会发现中文字符都变成了unicode。为了输出中文，需要指定参数\n",
    "#ensure_ascii为false，还要规定文件输出的编码，indent代表缩近字符个数，如下\n",
    "with open('data1.json','w',encoding='utf-8')as file:\n",
    "    file.write(json.dumps(data,indent=2,ensure_ascii=False))\n",
    "\n",
    "'''loads方法'''\n",
    "#如果已有json文件，想把文件内容读取出来\n",
    "#with open() as 以自动关闭文件的方式打开文件 \n",
    "#已有本地文件data1.json，读取该文件的内容并打印出来\n",
    "with open('data1.json',encoding='utf-8') as file:\n",
    "    str=file.read()\n",
    "    print(str)\n",
    "    data=json.loads(str)\n",
    "    print(data,78)\n",
    "    \n",
    "'''dump和load方法'''\n",
    "#dump方法写入指定内容，等价于上面的dumps方法\n",
    "data3=[{'第一站':'亭子码头',\n",
    "        '第二站':'成都',\n",
    "        '第三站':'重庆'}]\n",
    "json.dump(data3,open('data3.json','w',encoding='utf-8'),indent=2,ensure_ascii=False)\n",
    "#load方法读取文件中的内容并打印出来，等价于上面的loads方法\n",
    "import json\n",
    "data3=json.load(open('data3.json',encoding='utf-8'))\n",
    "print(data3)"
   ]
  },
  {
   "cell_type": "code",
   "execution_count": 8,
   "id": "7b3a0219-5cab-4d92-bd6b-348a980f6383",
   "metadata": {},
   "outputs": [],
   "source": [
    "'''学习mongodb的存储操作'''\n",
    "#需要安装好mongodb数据库，pymongo库\n",
    "#安装pymongo的相关链接\n",
    "#GitHub-github.com/mongodb/mongo-python-driver\n",
    "#官方文档-api.mongodb.com/python/current\n",
    "#pypi-pypi.python.org/pypi/pymongo\n",
    "\n",
    "暂未学习"
   ]
  },
  {
   "cell_type": "code",
   "execution_count": null,
   "id": "d3dc06c2-74f3-4865-8777-19ef1f157a5f",
   "metadata": {},
   "outputs": [],
   "source": [
    "'''学习如何使用pip安装第三方库\n",
    "python最强大的功能之一就是有丰富的第三方库，这些库大多数都可以在官方的python包\n",
    "索引到\n",
    "明确所需要的库，还要选择所要使用的版本，若没指定版本，默认安装最新。但随着新版本的发布\n",
    "如果安装时不指定版本可能会导致环境之间的不一致\n",
    "\n",
    "我目前理解的所谓pip安装，就是在电脑的终端，输入带pip的命令行，就可以直接安装对应第\n",
    "三方库，我输入pip install delorean==1.0.0，按回车，然后再输入pip list查询已\n",
    "安装好的第三方库列表，显示安装完成\n",
    "\n",
    "如果要更改库的版本，直接覆盖安装即可\n",
    " '''"
   ]
  }
 ],
 "metadata": {
  "kernelspec": {
   "display_name": "Python 3 (ipykernel)",
   "language": "python",
   "name": "python3"
  },
  "language_info": {
   "codemirror_mode": {
    "name": "ipython",
    "version": 3
   },
   "file_extension": ".py",
   "mimetype": "text/x-python",
   "name": "python",
   "nbconvert_exporter": "python",
   "pygments_lexer": "ipython3",
   "version": "3.9.16"
  }
 },
 "nbformat": 4,
 "nbformat_minor": 5
}
