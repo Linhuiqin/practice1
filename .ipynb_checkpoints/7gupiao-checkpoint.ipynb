{
 "cells": [
  {
   "cell_type": "code",
   "execution_count": 43,
   "id": "510bb9f2-1ca3-4f3e-bdd0-9b412b51827c",
   "metadata": {},
   "outputs": [
    {
     "name": "stdout",
     "output_type": "stream",
     "text": [
      "<class 'list'> C泰凌微 688591 这里是测试\n",
      "序号   股票代码   股票名称\n",
      "1      688591    C泰凌微\n",
      "2      300541    先进数通\n",
      "3      300049    福瑞股份\n",
      "4      300607    拓斯达\n",
      "5      301137    哈焊华通\n",
      "6      688160    步科股份\n",
      "7      688580    伟思医疗\n",
      "8      301255    通力科技\n",
      "9      301083    百胜智能\n",
      "10      300904    威力传动\n",
      "11      300503    昊志机电\n",
      "12      301398    星源卓镁\n",
      "13      688651    盛邦安全\n",
      "14      688582    芯动联科\n",
      "15      301261    恒工精密\n",
      "16      301042    安联锐视\n",
      "17      300885    海昌新材\n",
      "18      688191    智洋创新\n",
      "19      300414    中光防雷\n",
      "20      873593    鼎智科技\n"
     ]
    }
   ],
   "source": [
    "#第一步 东方财富网单个页面股票及其代码爬取\n",
    "import requests\n",
    "import json\n",
    "r=requests.get('http://quote.eastmoney.com/center/gridlist.html#hs_a_board')\n",
    "r.encoding=r.apparent_encoding\n",
    "#print(r.status_code,r.text)\n",
    "url_1='http://33.push2.eastmoney.com/api/qt/clist/get?cb=jQuery112409809118551445144_1693321402421&pn=1&pz=20&po=1&np=1&ut=bd1d9ddb04089700cf9c27f6f7426281&fltt=2&invt=2&wbp2u=|0|0|0|web&fid=f3&fs=m:0+t:6,m:0+t:80,m:1+t:2,m:1+t:23,m:0+t:81+s:2048'\n",
    "r_1=requests.get(url_1)\n",
    "data_1=r_1.text\n",
    "\n",
    "head=len('''jQuery112409809118551445144_1693321402421({\"rc\":0,\"rt\":6,\"svr\":182995208,\"lt\":1,\"full\":1,\"dlmkts\":\"\",\"data\":{\"total\":5507,\"diff\"::''')\n",
    "tail=len(\"}});\")\n",
    "data_1=data_1[head:-tail]#截取首位，让他符合json格式\n",
    "#print(type(data_1),data_1)\n",
    "data_1=json.loads(data_1)#data_1是个list容器。本来还在想这不是json格式那还不能用json方法处理数据\n",
    "#结果发现可以直接用，直接就用json的方法，通过键获取值\n",
    "print(type(data_1),data_1[0]['f14'],data_1[0]['f12'],\"这里是测试\")\n",
    "print(\"序号\",\"  股票代码\",\"  股票名称\")\n",
    "for i in range(20):\n",
    "    print(i+1,'    ',data_1[i]['f12'],'  ',data_1[i]['f14'])"
   ]
  },
  {
   "cell_type": "code",
   "execution_count": 60,
   "id": "2ae1f30f-8770-4c7d-8746-7bafa11c4886",
   "metadata": {},
   "outputs": [],
   "source": [
    "#第二步 东方财富网所有股票及其代码爬取\n"
   ]
  },
  {
   "cell_type": "code",
   "execution_count": 57,
   "id": "163de258-1f91-447c-b59d-969ba76119e1",
   "metadata": {},
   "outputs": [
    {
     "data": {
      "text/plain": [
       "'配置pipelines.py文件，定义对爬取项scraped item的处理类'"
      ]
     },
     "execution_count": 57,
     "metadata": {},
     "output_type": "execute_result"
    }
   ],
   "source": [
    "#股票数据scrapy爬虫练习\n",
    "#建立工程和生成spider模块；编写spider；编写item \n",
    "'''命令行（scrapy startproject BaiduStocks）新建一个baidustocks目录，(cd BaiduStocks)在该目录下生成一个爬虫，\n",
    "用genspider生成一个叫stocks的爬虫(scrapy genspider stocks baidu.com)\n",
    "进一步修改spiders/stocks.py文件\n",
    "编写的配置stocks.py文件--处理所有股票信息，并且把提取的信息以字典类型封装成item类，给到了后面的pipeline'''\n",
    "#获取股票列表-东方财富网-http://quote.eastmoney.com/stocklist.html\n",
    "#获取个股信息=百度股票-https://gupiao.baidu.com/stock/\n",
    "#单个股票-https://gupiao.baidu.com/stock/sz002439.html\n",
    "'''配置pipelines.py文件，定义对爬取项scraped item的处理类'''"
   ]
  },
  {
   "cell_type": "code",
   "execution_count": null,
   "id": "0afd989d-efd4-4894-bcd8-376e8bc8ced0",
   "metadata": {},
   "outputs": [],
   "source": []
  }
 ],
 "metadata": {
  "kernelspec": {
   "display_name": "Python 3 (ipykernel)",
   "language": "python",
   "name": "python3"
  },
  "language_info": {
   "codemirror_mode": {
    "name": "ipython",
    "version": 3
   },
   "file_extension": ".py",
   "mimetype": "text/x-python",
   "name": "python",
   "nbconvert_exporter": "python",
   "pygments_lexer": "ipython3",
   "version": "3.9.16"
  }
 },
 "nbformat": 4,
 "nbformat_minor": 5
}
