{
 "cells": [
  {
   "cell_type": "code",
   "execution_count": 31,
   "id": "655ca525-802b-4b36-806a-2d63658e37ba",
   "metadata": {},
   "outputs": [
    {
     "data": {
      "text/plain": [
       "'\\n定义类的格式\\n一定要有初始化函数__init__,这个函数一定要有个self参数\\n继承子类如何写\\n如何看创建的实例的属性或方法\\n'"
      ]
     },
     "execution_count": 31,
     "metadata": {},
     "output_type": "execute_result"
    },
    {
     "data": {
      "text/plain": [
       "'huiqin'"
      ]
     },
     "execution_count": 31,
     "metadata": {},
     "output_type": "execute_result"
    },
    {
     "data": {
      "text/plain": [
       "2023"
      ]
     },
     "execution_count": 31,
     "metadata": {},
     "output_type": "execute_result"
    },
    {
     "data": {
      "text/plain": [
       "<bound method Golem_run.run of <__main__.Golem_run object at 0x7faf81c9adf0>>"
      ]
     },
     "execution_count": 31,
     "metadata": {},
     "output_type": "execute_result"
    },
    {
     "name": "stdout",
     "output_type": "stream",
     "text": [
      "I am runing!\n"
     ]
    },
    {
     "data": {
      "text/plain": [
       "__main__.Golem"
      ]
     },
     "execution_count": 31,
     "metadata": {},
     "output_type": "execute_result"
    }
   ],
   "source": [
    "from IPython.core.interactiveshell import InteractiveShell\n",
    "InteractiveShell.ast_node_interactivity = \"all\"\n",
    "import datetime\n",
    "\"\"\"\n",
    "定义类的格式\n",
    "一定要有初始化函数__init__,这个函数一定要有个self参数\n",
    "继承子类如何写\n",
    "如何看创建的实例的属性或方法\n",
    "\"\"\"\n",
    "\n",
    "class Golem:    #定义类，母类后面不用带括号    \n",
    "    def __init__(self,name=None):#定义初始化函数，__init__和self是固定写法。\n",
    "        self.name=name          #当根据这个类创建一个实例的时候，那个object的初始化过程就是__init__函数\n",
    "        self.built_year=datetime.date.today().year #因为这个函数是在类中定义的，所以也称是类的一个方法\n",
    " #系统会把这个函数当作是创建实例必须执行的初始化函数 #self是系统默认识别的变量，用来指代将来这个类创建的实例\n",
    "    \n",
    "    def say_hi():\n",
    "        print('Hi!')\n",
    "class Golem_run(Golem):#创建继承了Golem这个母类的子类\n",
    "    def run(self):#子类的方法必须要有参数\n",
    "        print('I am runing!')\n",
    "    def say_hi():\n",
    "        print('Hi!,I am runing golem')\n",
    "g=Golem('huiqin')#创建了一个golem的实例，因为有__init__函数，所以g被自动带入以完成初始化\n",
    "g.name\n",
    "g.built_year\n",
    "gx=Golem_run('dazhi')\n",
    "gx.run\n",
    "gx.run()\n",
    "type(g)#__main__.Golem意思是Golem的实例\n",
    "#help(g)\n",
    "#help(Golem)#一个是函数本身，一个是函数的实例\n",
    "#g.__module__\n",
    "#dir(g)"
   ]
  },
  {
   "cell_type": "code",
   "execution_count": 53,
   "id": "053a79be-e892-43b6-a727-64011ca964bb",
   "metadata": {},
   "outputs": [
    {
     "data": {
      "text/plain": [
       "'\\n变量的作用域\\n'"
      ]
     },
     "execution_count": 53,
     "metadata": {},
     "output_type": "execute_result"
    },
    {
     "data": {
      "text/plain": [
       "True"
      ]
     },
     "execution_count": 53,
     "metadata": {},
     "output_type": "execute_result"
    },
    {
     "data": {
      "text/plain": [
       "True"
      ]
     },
     "execution_count": 53,
     "metadata": {},
     "output_type": "execute_result"
    },
    {
     "data": {
      "text/plain": [
       "False"
      ]
     },
     "execution_count": 53,
     "metadata": {},
     "output_type": "execute_result"
    },
    {
     "data": {
      "text/plain": [
       "False"
      ]
     },
     "execution_count": 53,
     "metadata": {},
     "output_type": "execute_result"
    },
    {
     "data": {
      "text/plain": [
       "False"
      ]
     },
     "execution_count": 53,
     "metadata": {},
     "output_type": "execute_result"
    },
    {
     "data": {
      "text/plain": [
       "1"
      ]
     },
     "execution_count": 53,
     "metadata": {},
     "output_type": "execute_result"
    },
    {
     "data": {
      "text/plain": [
       "1"
      ]
     },
     "execution_count": 53,
     "metadata": {},
     "output_type": "execute_result"
    },
    {
     "data": {
      "text/plain": [
       "10"
      ]
     },
     "execution_count": 53,
     "metadata": {},
     "output_type": "execute_result"
    },
    {
     "data": {
      "text/plain": [
       "10"
      ]
     },
     "execution_count": 53,
     "metadata": {},
     "output_type": "execute_result"
    },
    {
     "data": {
      "text/plain": [
       "11"
      ]
     },
     "execution_count": 53,
     "metadata": {},
     "output_type": "execute_result"
    },
    {
     "data": {
      "text/plain": [
       "11"
      ]
     },
     "execution_count": 53,
     "metadata": {},
     "output_type": "execute_result"
    },
    {
     "data": {
      "text/plain": [
       "10"
      ]
     },
     "execution_count": 53,
     "metadata": {},
     "output_type": "execute_result"
    },
    {
     "data": {
      "text/plain": [
       "10"
      ]
     },
     "execution_count": 53,
     "metadata": {},
     "output_type": "execute_result"
    },
    {
     "data": {
      "text/plain": [
       "True"
      ]
     },
     "execution_count": 53,
     "metadata": {},
     "output_type": "execute_result"
    }
   ],
   "source": [
    "from IPython.core.interactiveshell import InteractiveShell\n",
    "InteractiveShell.ast_node_interactivity = \"all\"\n",
    "import datetime\n",
    "'''\n",
    "变量的作用域\n",
    "'''\n",
    "class Golem:\n",
    "    population = 0\n",
    "    __life_span = 10#只在class Golem内能调用的变量，内部方法self.__life_span调用，外部既不能调用也不能更改\n",
    "    \n",
    "    def __init__(self, name=None):\n",
    "        self.name = name\n",
    "        self.built_year = datetime.date.today().year\n",
    "        self.__active = True\n",
    "        Golem.population += 1          # 执行一遍之后，试试把这句改成 population += 1\n",
    "    \n",
    "    def say_hi(self):\n",
    "        print('Hi!')\n",
    "    \n",
    "    def cease(self):\n",
    "        self.__active = False\n",
    "        Golem.population -= 1\n",
    "    \n",
    "    def is_active(self):\n",
    "        if datetime.date.today().year - self.built_year >= Golem.__life_span:\n",
    "            self.cease()\n",
    "        return self.__active\n",
    "\n",
    "g = Golem()#自动执行初始化函数__init__\n",
    "hasattr(Golem, 'population')      # True 就是判断目前Golem有没有population这个属性\n",
    "hasattr(g, 'population')          # True\n",
    "hasattr(Golem, '__life_span')     # False __life_span=10是私有变量，如果不是私有变量就会是true\n",
    "hasattr(g, '__life_span')         # False\n",
    "hasattr(g, '__active')            # False\n",
    "Golem.population                  # 1\n",
    "g.population                      # 1\n",
    "setattr(Golem, 'population', 10) \n",
    "Golem.population                  # 10\n",
    "g.population \n",
    "x = Golem()\n",
    "x.population\n",
    "Golem.population                  # 11\n",
    "\n",
    "x.cease()\n",
    "Golem.population                  # 10\n",
    "getattr(g, 'population')          # 10\n",
    "g.is_active()"
   ]
  },
  {
   "cell_type": "code",
   "execution_count": 65,
   "id": "d3c9ba12-ea66-4ccd-95d1-2ab8a69a48c0",
   "metadata": {},
   "outputs": [
    {
     "data": {
      "text/plain": [
       "'\\n迭代器\\n'"
      ]
     },
     "execution_count": 65,
     "metadata": {},
     "output_type": "execute_result"
    },
    {
     "name": "stdout",
     "output_type": "stream",
     "text": [
      "201\n",
      "203\n",
      "205\n",
      "207\n",
      "209\n",
      "211\n",
      "213\n",
      "215\n",
      "217\n",
      "219\n",
      "221\n",
      "223\n",
      "20\n",
      "22\n",
      "24\n",
      "26\n",
      "28\n",
      "30\n",
      "2\n",
      "3\n",
      "4\n",
      "5\n",
      "6\n",
      "7\n",
      "8\n"
     ]
    }
   ],
   "source": [
    "'''\n",
    "迭代器iteration\n",
    "'''\n",
    "class counter(object):\n",
    "    def __init__(self,start,stop):#固定写法\n",
    "        self.current=start\n",
    "        self.stop=stop\n",
    "        \n",
    "    def __iter__(self):#固定写法\n",
    "        return self\n",
    "    def __next__(self):#固定写法\n",
    "        if self.current>self.stop:\n",
    "            raise StopIteration\n",
    "        else:\n",
    "            c=self.current\n",
    "            self.current+=2\n",
    "        return c\n",
    "#用for循环来迭代\n",
    "for c in counter(201,223):\n",
    "    print(c)\n",
    "#用while循环来迭代\n",
    "c=counter(20,30)\n",
    "while True:\n",
    "    try:\n",
    "        print(next(c))\n",
    "    except StopIteration:\n",
    "        break\n",
    "#用python自己的迭代语句来也可以迭代，没有用到上面写的迭代器\n",
    "for n in range(2,9):\n",
    "    print(n)"
   ]
  },
  {
   "cell_type": "code",
   "execution_count": 33,
   "id": "98d927f1-fc4d-4734-9f92-2754c21f8dc8",
   "metadata": {},
   "outputs": [
    {
     "data": {
      "text/plain": [
       "'\\n生成器generation\\n用于生成迭代器的一个好用的工具。特点是用yield语句返回值。只要next函数在生成器中被调用，就默认它停止（left off不再使用）\\n任何生成器可以写的数据，以类为基础的迭代器也都能写\\n生成器之所以如此compact袖珍，是因为在生成器中__init__和__next__方法会自动生成\\n另一个key feature关键特征是本地变量和execution state执行语句在调用过程中会自动存储。因此无需使用self.index,self.data\\n这类的实例变量\\nin addition to除此之外，除类可以自动生成方法和保存项目state状态，当生成器被终止时，会自动raise stopiteration。\\nin combination总之，以上这些特性使得生成迭代器变得更为简单高效，比起写一个常规函数\\n'"
      ]
     },
     "execution_count": 33,
     "metadata": {},
     "output_type": "execute_result"
    },
    {
     "name": "stdout",
     "output_type": "stream",
     "text": [
      "f\n",
      "l\n",
      "o\n",
      "g\n"
     ]
    },
    {
     "data": {
      "text/plain": [
       "['n', 'i', 'q', 'i', 'u', 'h', 'n', 'i', 'l']"
      ]
     },
     "execution_count": 33,
     "metadata": {},
     "output_type": "execute_result"
    },
    {
     "data": {
      "text/plain": [
       "{'h', 'i', 'l', 'n', 'q', 'u'}"
      ]
     },
     "execution_count": 33,
     "metadata": {},
     "output_type": "execute_result"
    },
    {
     "data": {
      "text/plain": [
       "{104, 105, 108, 110, 113, 117}"
      ]
     },
     "execution_count": 33,
     "metadata": {},
     "output_type": "execute_result"
    }
   ],
   "source": [
    "'''\n",
    "生成器generation\n",
    "用于生成迭代器的一个好用的工具。特点是用yield语句返回值。只要next函数在生成器中被调用，就默认它停止（left off不再使用）\n",
    "任何生成器可以写的数据，以类为基础的迭代器也都能写\n",
    "生成器之所以如此compact袖珍，是因为在生成器中__init__和__next__方法会自动生成\n",
    "另一个key feature关键特征是本地变量和execution state执行语句在调用过程中会自动存储。因此无需使用self.index,self.data\n",
    "这类的实例变量\n",
    "in addition to除此之外，除类可以自动生成方法和保存项目state状态，当生成器被终止时，会自动raise stopiteration。\n",
    "in combination总之，以上这些特性使得生成迭代器变得更为简单高效，比起写一个常规函数\n",
    "'''\n",
    "def reverse(data):\n",
    "    for index in range(len(data)-1,-1,-1):\n",
    "        yield data[index]\n",
    "char=''\n",
    "for char in reverse('golf'):\n",
    "        print(char)\n",
    "\n",
    "#生成器表达式写法\n",
    "str='linhuiqin'\n",
    "list(str[i] for i in range(len(str)-1,-1,-1))#有序容器\n",
    "set(str[i] for i in range(len(str)-1,-1,-1))#无序容器，会自动去重\n",
    "set(ord(str[i]) for i in range(len(str)-1,-1,-1))#果然，还会自动排列"
   ]
  },
  {
   "cell_type": "code",
   "execution_count": 2,
   "id": "634643c3-c6ad-440a-ae3a-c99b039173d2",
   "metadata": {},
   "outputs": [
    {
     "data": {
      "text/plain": [
       "'\\n生成器表达式generation expressions\\n一些简单的生成器可以用类似list comprehensions这类syntax语法的表达式写出来，\\n但用的是parentheses圆括号而不是square brackets方括号\\n表达式是为了以下这些情况而设计的-right away立刻 enclosing封闭的 生成器是由封闭函数立刻使用的\\n生成器表达式比完整的生成器定义简单，且比list comprehension更好记\\n'"
      ]
     },
     "execution_count": 2,
     "metadata": {},
     "output_type": "execute_result"
    },
    {
     "data": {
      "text/plain": [
       "285"
      ]
     },
     "execution_count": 2,
     "metadata": {},
     "output_type": "execute_result"
    },
    {
     "data": {
      "text/plain": [
       "[70, 100, 90]"
      ]
     },
     "execution_count": 2,
     "metadata": {},
     "output_type": "execute_result"
    },
    {
     "data": {
      "text/plain": [
       "260"
      ]
     },
     "execution_count": 2,
     "metadata": {},
     "output_type": "execute_result"
    }
   ],
   "source": [
    "from IPython.core.interactiveshell import InteractiveShell\n",
    "InteractiveShell.ast_node_interactivity = \"all\"\n",
    "'''\n",
    "生成器表达式generation expressions\n",
    "一些简单的生成器可以用类似list comprehensions这类syntax语法的表达式写出来，\n",
    "但用的是parentheses圆括号而不是square brackets方括号\n",
    "表达式是为了以下这些情况而设计的-right away立刻 enclosing封闭的 生成器是由封闭函数立刻使用的\n",
    "生成器表达式比完整的生成器定义简单，且比list comprehension更好记\n",
    "'''\n",
    "sum(i*i for i in range(10))\n",
    "#sum of squares正方形\n",
    "\n",
    "xvec=[10,20,30]\n",
    "yvec=[7,5,3]\n",
    "list(x*y for x,y in zip(xvec,yvec))\n",
    "sum(x*y for x,y in zip(xvec,yvec))\n",
    "#dot product\n",
    "\n",
    "page=[]\n",
    "#unique_words=set(word for line in page for word in line.spilt())#报错\n",
    "\n",
    "#veledictorian=max((student.gpa,student.name)for student in graduates)\n"
   ]
  },
  {
   "cell_type": "code",
   "execution_count": 12,
   "id": "bfa83afb-45bf-4217-ab0b-daa296bd6937",
   "metadata": {},
   "outputs": [
    {
     "data": {
      "text/plain": [
       "'\\n如何让一个函数的返回值是另一个函数（函数的调用）\\n'"
      ]
     },
     "execution_count": 12,
     "metadata": {},
     "output_type": "execute_result"
    },
    {
     "name": "stdout",
     "output_type": "stream",
     "text": [
      "Hi, I'm b_func!\n"
     ]
    },
    {
     "data": {
      "text/plain": [
       "<function __main__.a_func.<locals>.b_func()>"
      ]
     },
     "execution_count": 12,
     "metadata": {},
     "output_type": "execute_result"
    }
   ],
   "source": [
    "'''\n",
    "如何让一个函数的返回值是另一个函数（函数的调用）\n",
    "'''\n",
    "def a_func():\n",
    "    def b_func():\n",
    "        print(\"Hi, I'm b_func!\")\n",
    "    b_func()\n",
    "a_func()\n",
    "#让一个函数的返回值是函数本身\n",
    "def a_func():\n",
    "    def b_func():\n",
    "        print(\"Hi, I'm b_func!\")\n",
    "    return b_func\n",
    "a_func()"
   ]
  },
  {
   "cell_type": "code",
   "execution_count": 30,
   "id": "21d449d1-b775-4d7b-aa5b-a2d1c8c5e0d1",
   "metadata": {},
   "outputs": [
    {
     "data": {
      "text/plain": [
       "'\\ndecorator装饰器\\n如果想要增加/改变函数a的执行行为和结果，那么给这个函数a写一个装饰器。\\n函数a每次被调用，执行的就是装饰器的代码内容及对应结果\\n'"
      ]
     },
     "execution_count": 30,
     "metadata": {},
     "output_type": "execute_result"
    },
    {
     "name": "stdout",
     "output_type": "stream",
     "text": [
      "We can do sth. before calling a_func...\n",
      "Hi, I'm a_func!\n",
      "... and we can do sth. after it was called...\n"
     ]
    },
    {
     "data": {
      "text/plain": [
       "'函数word本身功能是打印it is cold day，增加装饰器后，word功能变为打印出大写的文字'"
      ]
     },
     "execution_count": 30,
     "metadata": {},
     "output_type": "execute_result"
    },
    {
     "data": {
      "text/plain": [
       "'IT IS COLD DAY!'"
      ]
     },
     "execution_count": 30,
     "metadata": {},
     "output_type": "execute_result"
    },
    {
     "data": {
      "text/plain": [
       "'套用两个装饰器'"
      ]
     },
     "execution_count": 30,
     "metadata": {},
     "output_type": "execute_result"
    },
    {
     "name": "stdout",
     "output_type": "stream",
     "text": [
      "<STRONG>THE QUICK BROWN FOX JUMPS OVER THE LAZY DOG.</STRONG>\n"
     ]
    }
   ],
   "source": [
    "'''\n",
    "decorator装饰器\n",
    "如果想要增加/改变函数a的执行行为和结果，那么给这个函数a写一个装饰器。\n",
    "函数a每次被调用，执行的就是装饰器的代码内容及对应结果\n",
    "'''\n",
    "#用 a_decorator 的调用结果替换掉原来的函数。\n",
    "#a_decorator 返回值是什么，以后调用 a_func 时就是在调用这个返回值，\n",
    "#而 a_decorator 本身此时已经执行完毕\n",
    "def a_decorator(func):\n",
    "    def wrapper():\n",
    "        print('We can do sth. before calling a_func...')\n",
    "        func()\n",
    "        print('... and we can do sth. after it was called...')\n",
    "    return wrapper\n",
    "\n",
    "@a_decorator\n",
    "def a_func():\n",
    "    print(\"Hi, I'm a_func!\")\n",
    "\n",
    "a_func()\n",
    "\n",
    "'''函数word本身功能是打印it is cold day，增加装饰器后，word功能变为打印出大写的文字'''\n",
    "def upper(fun):\n",
    "   def wrapper():\n",
    "    fun_1=fun()\n",
    "    return fun_1.upper()\n",
    "   return wrapper\n",
    "@upper\n",
    "def word():\n",
    "    return 'it is cold day!'\n",
    "word()\n",
    "\n",
    "'''套用两个装饰器，装饰器的执行顺序是由里到外'''\n",
    "def uppercase(func):\n",
    "    def wrapper():\n",
    "        original_result = func()\n",
    "        modified_restult = original_result.upper()\n",
    "        return modified_restult\n",
    "    return wrapper\n",
    "def strong(func):\n",
    "    def wrapper():\n",
    "        original_result = func()\n",
    "        modified_restult = '<strong>'+original_result+'</strong>'\n",
    "        return modified_restult\n",
    "    return wrapper\n",
    "\n",
    "\n",
    "@uppercase\n",
    "@strong\n",
    "def an_output():\n",
    "    return 'The quick brown fox jumps over the lazy dog.'\n",
    "print(an_output())"
   ]
  },
  {
   "cell_type": "code",
   "execution_count": 31,
   "id": "433ca0ef-e383-4ce2-9cd4-6ab5aca0a543",
   "metadata": {},
   "outputs": [
    {
     "data": {
      "text/plain": [
       "'装饰带有参数的函数\\n*args 接收并处理所有传递进来的位置参数，**kwargs 接收并处理所有传递进来的关键字参数\\n阅读这个页面https://wiki.python.org/moin/PythonDecoratorLibrary\\n'"
      ]
     },
     "execution_count": 31,
     "metadata": {},
     "output_type": "execute_result"
    },
    {
     "name": "stdout",
     "output_type": "stream",
     "text": [
      "Trace: You've called a function: say_hi(), with args: ('Hello',); kwargs: {'name': 'Jack'}\n",
      "Trace: say_hi('Hello',) returned: Hello! Jack.\n",
      "Hello! Jack.\n"
     ]
    }
   ],
   "source": [
    "'''装饰带有参数的函数\n",
    "*args 接收并处理所有传递进来的位置参数，**kwargs 接收并处理所有传递进来的关键字参数\n",
    "阅读这个页面https://wiki.python.org/moin/PythonDecoratorLibrary\n",
    "如果我们想在装饰器里对函数名、参数，都做些事情 —— \n",
    "比如，我们写个 @trace 用来告诉用户调用一个函数的时候都发生了什么……\n",
    "'''\n",
    "def trace(func):\n",
    "    def wrapper(*args, **kwargs):\n",
    "        print(f\"Trace: You've called a function: {func.__name__}(),\",\n",
    "              f\"with args: {args}; kwargs: {kwargs}\")\n",
    "\n",
    "        original_result = func(*args, **kwargs)\n",
    "        print(f\"Trace: {func.__name__}{args} returned: {original_result}\")\n",
    "        return original_result\n",
    "    return wrapper\n",
    "\n",
    "@trace\n",
    "def say_hi(greeting, name=None):\n",
    "    return greeting + '! ' + name + '.'\n",
    "\n",
    "print(say_hi('Hello', name = 'Jack'))\n"
   ]
  },
  {
   "cell_type": "code",
   "execution_count": 54,
   "id": "dd7a629a-7bca-4e31-b595-79f11836de78",
   "metadata": {},
   "outputs": [
    {
     "data": {
      "text/plain": [
       "'正则表达式\\n在文本中扫描/搜索（Scan/Search）与某一规则（Pattern）匹配（Match，即，与规则一致）的所有实例，\\n并且还可以按照规则捕获（Capture）其中的部分或者全部，对它们进行替换（Replace）\\n | 1 | 转义符号 (Escaping Symbol) | \\\\ | \\n | 2 | 分组、捕获 (Grouping or Capturing) | (...) (?:...) (?=...) (?!...) (?<=...) (?<!...) |\\n | 3 | 数量 (Quantifiers) | a* a+ a? a{n, m} |\\n | 4 | 序列与定位（Sequence and Anchor）| abc ^ $ \\x08 \\\\B | \\n | 5 | 或（Alternation）| a\\\\|b\\\\|c |\\n | 6 | 原子 (Atoms) | a [^abc] \\t \\r \\n \\\\d \\\\D \\\\s \\\\S \\\\w \\\\W . |\\n'"
      ]
     },
     "execution_count": 54,
     "metadata": {},
     "output_type": "execute_result"
    },
    {
     "data": {
      "text/plain": [
       "'abcdefghijklmnopqrstuvwxyzABCDEFGHIJKLMNOPQRSTUVWXYZ'"
      ]
     },
     "execution_count": 54,
     "metadata": {},
     "output_type": "execute_result"
    },
    {
     "data": {
      "text/plain": [
       "'0123456789'"
      ]
     },
     "execution_count": 54,
     "metadata": {},
     "output_type": "execute_result"
    },
    {
     "data": {
      "text/plain": [
       "'# \\\\ + * . ? - ^ $ | ( ) [ ] { } < >在regex中都有特殊含义，所以如果要搜索他们呢，需要在前面加\\n转义字符\\\\来表示\\n[abc] 表示abc 中的任意一个字符\\n[a-z] 表示a-z中的任意一个字符。\\n[^abc]表示 abc 以外的其它任意字符。^ 符号只能用一次，只能紧跟在 [ 之后。否则不起作用\\n\\\\d 任意数字；等价于 [0-9]\\n\\\\D 任意非数字；等价于 [^0-9]\\n\\\\w 任意本义字符；等价于 [a-zA-Z0-9_]\\n\\\\W 任意非本义字符；等价于 [^a-zA-Z0-9_]\\n\\\\s 任意空白；相当于 [ \\x0c\\n\\r\\t\\x0b]（注意，方括号内第一个字符是空格符号）\\n\\\\S 任意非空白；相当于 [^ \\x0c\\n\\r\\t\\x0b]（注意，紧随 ^ 之后的是一个空格符号）\\n. 除 \\r \\n 之外的任意字符；相当于 [^\\r\\n]\\n\\n^ 匹配被搜索字符串的开始位置；\\n$ 匹配被搜索字符串的结束位置；\\n\\x08 匹配单词的边界；er\\x08，能匹配 coder 中的 er，却不能匹配 error 中的 er；\\n\\\\B 匹配非单词边界；er\\\\B，能匹配 error 中的 er，却不能匹配 coder 中的 er\\n+ 代表前面的原子必须至少出现一次，即：出现次数 ≧ 1\\n? 代表前面的原子最多只可以出现一次，即：0 ≦ 出现次数 ≦ 1\\n* 代表前面的原子可以不出现，也可以出现一次或者多次，即：出现次数 ≧ 0\\n{n} 之前的原子出现确定的 n 次；\\n\\n{n,} 之前的原子出现至少 n 次；\\n\\n{n, m} 之前的原子出现至少 n 次，至多 m 次\\n'"
      ]
     },
     "execution_count": 54,
     "metadata": {},
     "output_type": "execute_result"
    },
    {
     "data": {
      "text/plain": [
       "['a', 'a', 'e', 'a', 'a', 'e', 'a', 'a', '|', 'e']"
      ]
     },
     "execution_count": 54,
     "metadata": {},
     "output_type": "execute_result"
    },
    {
     "data": {
      "text/plain": [
       "['a', 'a', 'e', 'a', 'a', 'e', 'a', 'a', '|', 'e']"
      ]
     },
     "execution_count": 54,
     "metadata": {},
     "output_type": "execute_result"
    },
    {
     "data": {
      "text/plain": [
       "['a', 'a', 'e', 'a', 'a', 'e', 'a', 'a', 'e']"
      ]
     },
     "execution_count": 54,
     "metadata": {},
     "output_type": "execute_result"
    },
    {
     "data": {
      "text/plain": [
       "['a', 'a', 'e', 'a', 'a', 'e', 'a', 'a', 'e']"
      ]
     },
     "execution_count": 54,
     "metadata": {},
     "output_type": "execute_result"
    },
    {
     "data": {
      "text/plain": [
       "['a', 'a', 'e', 'a', 'a', 'e', 'a', 'a', '|', 'e']"
      ]
     },
     "execution_count": 54,
     "metadata": {},
     "output_type": "execute_result"
    }
   ],
   "source": [
    "'''正则表达式https://docs.python.org/3/library/re.html\n",
    "在文本中扫描/搜索（Scan/Search）与某一规则（Pattern）匹配（Match，即，与规则一致）的所有实例，\n",
    "并且还可以按照规则捕获（Capture）其中的部分或者全部，对它们进行替换（Replace）\n",
    " | 1 | 转义符号 (Escaping Symbol) | \\ | \n",
    " | 2 | 分组、捕获 (Grouping or Capturing) | (...) (?:...) (?=...) (?!...) (?<=...) (?<!...) |\n",
    " | 3 | 数量 (Quantifiers) | a* a+ a? a{n, m} |\n",
    " | 4 | 序列与定位（Sequence and Anchor）| abc ^ $ \\b \\B | \n",
    " | 5 | 或（Alternation）| a\\|b\\|c |\n",
    " | 6 | 原子 (Atoms) | a [^abc] \\t \\r \\n \\d \\D \\s \\S \\w \\W . |\n",
    "'''\n",
    "from IPython.core.interactiveshell import InteractiveShell\n",
    "InteractiveShell.ast_node_interactivity = \"all\"\n",
    "import string \n",
    "string.ascii_letters#本义字符\n",
    "string.digits#本义字符，另_也是本义字符\n",
    "\n",
    "'''# \\ + * . ? - ^ $ | ( ) [ ] { } < >在regex中都有特殊含义，所以如果要搜索他们呢，需要在前面加\n",
    "转义字符\\来表示\n",
    "[abc] 表示abc 中的任意一个字符\n",
    "[a-z] 表示a-z中的任意一个字符。\n",
    "[^abc]表示 abc 以外的其它任意字符。^ 符号只能用一次，只能紧跟在 [ 之后。否则不起作用\n",
    "\\d 任意数字；等价于 [0-9]\n",
    "\\D 任意非数字；等价于 [^0-9]\n",
    "\\w 任意本义字符；等价于 [a-zA-Z0-9_]\n",
    "\\W 任意非本义字符；等价于 [^a-zA-Z0-9_]\n",
    "\\s 任意空白；相当于 [ \\f\\n\\r\\t\\v]（注意，方括号内第一个字符是空格符号）\n",
    "\\S 任意非空白；相当于 [^ \\f\\n\\r\\t\\v]（注意，紧随 ^ 之后的是一个空格符号）\n",
    ". 除 \\r \\n 之外的任意字符；相当于 [^\\r\\n]\n",
    "\n",
    "^ 匹配被搜索字符串的开始位置；\n",
    "$ 匹配被搜索字符串的结束位置；\n",
    "\\b 匹配单词的边界；er\\b，能匹配 coder 中的 er，却不能匹配 error 中的 er；\n",
    "\\B 匹配非单词边界；er\\B，能匹配 error 中的 er，却不能匹配 coder 中的 er\n",
    "+ 代表前面的原子必须至少出现一次，即：出现次数 ≧ 1\n",
    "? 代表前面的原子最多只可以出现一次，即：0 ≦ 出现次数 ≦ 1\n",
    "* 代表前面的原子可以不出现，也可以出现一次或者多次，即：出现次数 ≧ 0\n",
    "{n} 之前的原子出现确定的 n 次；\n",
    "\n",
    "{n,} 之前的原子出现至少 n 次；\n",
    "\n",
    "{n, m} 之前的原子出现至少 n 次，至多 m 次\n",
    "'''\n",
    "import re\n",
    "#方括号的 | 不被当作特殊符号，而是被当作 | 这个符号本身。在方括号中的圆括号，\n",
    "#也被当作圆括号 () 本身，而无分组含义\n",
    "str = 'achroiocythaemia achroiocythemia a|e'\n",
    "pttn = r'[a|ae]'\n",
    "re.findall(pttn, str)\n",
    "\n",
    "pttn = r'[a|e]'\n",
    "re.findall(pttn, str)\n",
    "\n",
    "pttn = r'[ae]'\n",
    "re.findall(pttn, str)\n",
    "\n",
    "pttn = r'[(ae)]'\n",
    "re.findall(pttn, str)\n",
    "\n",
    "pttn = r'[a|ae|(ae)]'\n",
    "re.findall(pttn, str)\n"
   ]
  },
  {
   "cell_type": "code",
   "execution_count": 75,
   "id": "fd2ca654-e6ca-4bab-b7af-b1c957713721",
   "metadata": {},
   "outputs": [
    {
     "data": {
      "text/plain": [
       "\"<Match: 'akt5q', groups=()>\""
      ]
     },
     "execution_count": 75,
     "metadata": {},
     "output_type": "execute_result"
    }
   ],
   "source": [
    "from IPython.core.interactiveshell import InteractiveShell\n",
    "InteractiveShell.ast_node_interactivity = \"all\"\n",
    "'''学习match表达式\n",
    "'''\n",
    "import re\n",
    "def displaymatch(match):\n",
    "    if match is None:\n",
    "        return None\n",
    "    return '<Match: %r, groups=%r>' % (match.group(), match.groups())\n",
    "\n",
    "valid = re.compile(r\"^[a2-9tjqk]{5}$\")\n",
    "displaymatch(valid.match(\"akt5q\")) "
   ]
  },
  {
   "cell_type": "code",
   "execution_count": 43,
   "id": "98f2d62e-5145-4183-8f27-1860a76b4ba6",
   "metadata": {
    "tags": []
   },
   "outputs": [
    {
     "data": {
      "text/plain": [
       "'re模块-match语句中的group方法'"
      ]
     },
     "execution_count": 43,
     "metadata": {},
     "output_type": "execute_result"
    },
    {
     "data": {
      "text/plain": [
       "'\\n捕获（Capture），使用的是圆括号 ()。使用圆括号得到的匹配的值被暂存成一个带有索引的列表，\\n第一个是 $1，第二个是 $2…… 以此类推。随后，我们可以在替换的过程中使用 $1 $2 中所保存的值。\\n不想捕获圆括号中的内容，在那个地方你使用括号的目的只是分组，而非捕获，\\n那么，你就在圆括号内最开头加上 ?: —— (?:...)\\n'"
      ]
     },
     "execution_count": 43,
     "metadata": {},
     "output_type": "execute_result"
    },
    {
     "data": {
      "text/plain": [
       "'linzhiying xiaoyu lin'"
      ]
     },
     "execution_count": 43,
     "metadata": {},
     "output_type": "execute_result"
    },
    {
     "data": {
      "text/plain": [
       "'linzhiying'"
      ]
     },
     "execution_count": 43,
     "metadata": {},
     "output_type": "execute_result"
    },
    {
     "data": {
      "text/plain": [
       "'xiaoyu'"
      ]
     },
     "execution_count": 43,
     "metadata": {},
     "output_type": "execute_result"
    },
    {
     "data": {
      "text/plain": [
       "'lin'"
      ]
     },
     "execution_count": 43,
     "metadata": {},
     "output_type": "execute_result"
    },
    {
     "data": {
      "text/plain": [
       "'可以自定义检索名称的group写法'"
      ]
     },
     "execution_count": 43,
     "metadata": {},
     "output_type": "execute_result"
    },
    {
     "data": {
      "text/plain": [
       "'xiaoyu'"
      ]
     },
     "execution_count": 43,
     "metadata": {},
     "output_type": "execute_result"
    },
    {
     "data": {
      "text/plain": [
       "('linzhiying', 'xiaoyu', 'lin')"
      ]
     },
     "execution_count": 43,
     "metadata": {},
     "output_type": "execute_result"
    },
    {
     "data": {
      "text/plain": [
       "'不一样的写法。re.match().group()/re.compile().match().group()'"
      ]
     },
     "execution_count": 43,
     "metadata": {},
     "output_type": "execute_result"
    },
    {
     "data": {
      "text/plain": [
       "'k'"
      ]
     },
     "execution_count": 43,
     "metadata": {},
     "output_type": "execute_result"
    },
    {
     "data": {
      "text/plain": [
       "<re.Match object; span=(0, 1), match='c'>"
      ]
     },
     "execution_count": 43,
     "metadata": {},
     "output_type": "execute_result"
    },
    {
     "data": {
      "text/plain": [
       "'查找动词及获取他们的位置'"
      ]
     },
     "execution_count": 43,
     "metadata": {},
     "output_type": "execute_result"
    },
    {
     "name": "stdout",
     "output_type": "stream",
     "text": [
      "7 16 carefully\n",
      "07-16: carefully\n",
      "40 47 quickly\n",
      "40-47: quickly\n"
     ]
    }
   ],
   "source": [
    "'''re模块-match语句中的group方法'''\n",
    "from IPython.core.interactiveshell import InteractiveShell\n",
    "InteractiveShell.ast_node_interactivity = \"all\"\n",
    "import re\n",
    "'''\n",
    "捕获（Capture），使用的是圆括号 ()。使用圆括号得到的匹配的值被暂存成一个带有索引的列表，\n",
    "第一个是 $1，第二个是 $2…… 以此类推。随后，我们可以在替换的过程中使用 $1 $2 中所保存的值。\n",
    "不想捕获圆括号中的内容，在那个地方你使用括号的目的只是分组，而非捕获，\n",
    "那么，你就在圆括号内最开头加上 ?: —— (?:...)\n",
    "'''\n",
    "m=re.match(r'(\\w+) (\\w+) (\\w+)','linzhiying xiaoyu lin (dazhi)')\n",
    "m.group(0)#默人返回所有满足条件的字符串\n",
    "m.group(1)#满足条件的第一个字符串\n",
    "m.group(2)#满足条件的第二个字符串\n",
    "m.group(3)#满足条件的第三个字符串\n",
    "#m.group(4)#超出检索范围IndexError\n",
    "\n",
    "'''可以自定义检索名称的group写法'''\n",
    "m=re.match(r'(?P<brother>\\w+) (?P<sister>\\w+) (?P<last_name>\\w+)','linzhiying xiaoyu lin (dazhi)')\n",
    "m.group('sister')#?p<name>...是group里面特有的格式，可以自定义检索名字\n",
    "m.group(1,2,3)#有三个match，所以会自动生成元祖，来装这些匹配的字符串\n",
    "\n",
    "'''不一样的写法。re.match().group()/re.compile().match().group()'''\n",
    "pair = re.compile(r\".*(.).*\\1\")#查询这个网站https://regex101.com\n",
    "pair.match(\"iiddkk\").group(1)#有三个都匹配，只匹配最后一个\n",
    "\n",
    "re.match(\"c\", \"cabdef\")\n",
    "re.search(\"^c\", \"abdcef\")\n",
    "\n",
    "'''查找动词及获取他们的位置'''\n",
    "text = \"He was carefully disguised but captured quickly by police.\"\n",
    "for m in re.finditer(r\"\\w+ly\\b\", text):\n",
    "    print(m.start(), m.end(), m.group(0))\n",
    "    print('%02d-%02d: %s' % (m.start(), m.end(), m.group(0)))\n",
    "    #%02d-%02d: %s这是什么写法有点搞不懂"
   ]
  },
  {
   "cell_type": "code",
   "execution_count": 22,
   "id": "36f31850-de08-4231-b1c5-982675ac54b1",
   "metadata": {
    "collapsed": true,
    "jupyter": {
     "outputs_hidden": true
    },
    "tags": []
   },
   "outputs": [
    {
     "data": {
      "text/plain": [
       "['Ross McFluff: 834',\n",
       " '345',\n",
       " '1254 155 Elm Street\\n    Ronald Heathmore: 892',\n",
       " '345',\n",
       " '3428 436 Finley Avenue\\n    Frank Burger: 925',\n",
       " '541',\n",
       " '7625 662 South Dogwood Way\\n    Heather Albrecht: 548',\n",
       " '326',\n",
       " '4584 919 Park Place']"
      ]
     },
     "execution_count": 22,
     "metadata": {},
     "output_type": "execute_result"
    },
    {
     "data": {
      "text/plain": [
       "['Ross McFluff: 834.345.1254 155 Elm Street',\n",
       " '    Ronald Heathmore: 892.345.3428 436 Finley Avenue',\n",
       " '    Frank Burger: 925.541.7625 662 South Dogwood Way',\n",
       " '    Heather Albrecht: 548.326.4584 919 Park Place']"
      ]
     },
     "execution_count": 22,
     "metadata": {},
     "output_type": "execute_result"
    },
    {
     "data": {
      "text/plain": [
       "'split这个方法测试re.split(pattern, string, maxsplit=0, flags=0)\\n   maxsplit=3的意思是最多只分组3个，剩余的会放在末尾作为一个元素'"
      ]
     },
     "execution_count": 22,
     "metadata": {},
     "output_type": "execute_result"
    },
    {
     "data": {
      "text/plain": [
       "['Words', 'words, words.']"
      ]
     },
     "execution_count": 22,
     "metadata": {},
     "output_type": "execute_result"
    },
    {
     "data": {
      "text/plain": [
       "['Words', 'words', 'words.']"
      ]
     },
     "execution_count": 22,
     "metadata": {},
     "output_type": "execute_result"
    },
    {
     "data": {
      "text/plain": [
       "['Words', 'words', 'words', '']"
      ]
     },
     "execution_count": 22,
     "metadata": {},
     "output_type": "execute_result"
    },
    {
     "data": {
      "text/plain": [
       "['huiqin', 'dazhi', 'zhiying', 'xiaoyu', 'kim', 'jack', 'angel']"
      ]
     },
     "execution_count": 22,
     "metadata": {},
     "output_type": "execute_result"
    },
    {
     "data": {
      "text/plain": [
       "['huiqin', 'dazhi,zhiying,xiaoyu,kim,jack,angel']"
      ]
     },
     "execution_count": 22,
     "metadata": {},
     "output_type": "execute_result"
    },
    {
     "data": {
      "text/plain": [
       "['huiqin', 'dazhi', 'zhiying,xiaoyu,kim,jack,angel']"
      ]
     },
     "execution_count": 22,
     "metadata": {},
     "output_type": "execute_result"
    },
    {
     "data": {
      "text/plain": [
       "['huiqin', 'd_azhi', 'zhiying', 'xiaoyu', 'kim', 'jack', 'angel']"
      ]
     },
     "execution_count": 22,
     "metadata": {},
     "output_type": "execute_result"
    }
   ],
   "source": [
    "'''re.spilt方法'''\n",
    "from IPython.core.interactiveshell import InteractiveShell\n",
    "InteractiveShell.ast_node_interactivity = \"all\"\n",
    "import re\n",
    "text = \"\"\"Ross McFluff: 834.345.1254 155 Elm Street\n",
    "    Ronald Heathmore: 892.345.3428 436 Finley Avenue\n",
    "    Frank Burger: 925.541.7625 662 South Dogwood Way\n",
    "    Heather Albrecht: 548.326.4584 919 Park Place\"\"\"\n",
    "entries1 = re.split(\"\\.+\", text)#以点为分隔符，把字符串分隔起来，放在列表中\n",
    "entries1\n",
    "entries2 = re.split(\"\\n+\", text)#以换行为分隔符，把字符串分隔起来，放在列表中\n",
    "entries2\n",
    "\n",
    "'''split这个方法测试re.split(pattern, string, maxsplit=0, flags=0)\n",
    "   maxsplit=3的意思是最多只分组3个，剩余的会放在末尾作为一个元素'''\n",
    "re.split(r'\\W+', 'Words, words, words.', 1)\n",
    "re.split(r'\\W+', 'Words, words, words.', 2)\n",
    "re.split(r'\\W+', 'Words, words, words.', 3)\n",
    "\n",
    "re.split(r'\\W+', 'huiqin,dazhi,zhiying,xiaoyu,kim,jack,angel')\n",
    "re.split(r'\\W+', 'huiqin,dazhi,zhiying,xiaoyu,kim,jack,angel', 1)\n",
    "re.split(r'\\W+', 'huiqin,dazhi,zhiying,xiaoyu,kim,jack,angel', 2)\n",
    "re.split(r'\\W+', 'huiqin,d_azhi,zhiying,xiaoyu,kim,jack,angel', 7)"
   ]
  },
  {
   "cell_type": "code",
   "execution_count": 47,
   "id": "d63af41c-7830-45a0-a2bb-84caa40215c1",
   "metadata": {},
   "outputs": [
    {
     "data": {
      "text/plain": [
       "'re.sub方法  re.sub(pattern, repl, string, count=0, flags=0)'"
      ]
     },
     "execution_count": 47,
     "metadata": {},
     "output_type": "execute_result"
    },
    {
     "data": {
      "text/plain": [
       "'Baked Beans & Spam'"
      ]
     },
     "execution_count": 47,
     "metadata": {},
     "output_type": "execute_result"
    },
    {
     "data": {
      "text/plain": [
       "'pro--gram@files'"
      ]
     },
     "execution_count": 47,
     "metadata": {},
     "output_type": "execute_result"
    },
    {
     "data": {
      "text/plain": [
       "'pro@@gram@files'"
      ]
     },
     "execution_count": 47,
     "metadata": {},
     "output_type": "execute_result"
    },
    {
     "data": {
      "text/plain": [
       "'sub方法实例应用，text munging短信数据转换'"
      ]
     },
     "execution_count": 47,
     "metadata": {},
     "output_type": "execute_result"
    },
    {
     "data": {
      "text/plain": [
       "'We love wave sfuirng!'"
      ]
     },
     "execution_count": 47,
     "metadata": {},
     "output_type": "execute_result"
    }
   ],
   "source": [
    "'''re.sub方法  re.sub(pattern, repl, string, count=0, flags=0)'''\n",
    "from IPython.core.interactiveshell import InteractiveShell\n",
    "InteractiveShell.ast_node_interactivity = \"all\"\n",
    "import re,random\n",
    "re.sub(r'\\sAND\\s', ' & ', 'Baked Beans And Spam', flags=re.IGNORECASE)\n",
    "\n",
    "def dashrepl(matchobj):\n",
    "     if matchobj.group(0) == '-': return '@'#group(0)是返回所有满足的\n",
    "     else: return '-'\n",
    "re.sub('-{1,2}', dashrepl, 'pro----gram-files')#-{1,2}表示有且只能有一个-，或者两个-\n",
    "re.sub('-{1,2}', '@', 'pro----gram-files')\n",
    "\n",
    "'''sub方法实例应用，text munging短信数据转换'''\n",
    "def repl(t):\n",
    "    inner_word=list(t.group(2))\n",
    "    random.shuffle(inner_word)\n",
    "    return t.group(1)+\"\".join(inner_word)+t.group(3)\n",
    "text=\"We love wave surfing!\"\n",
    "re.sub(r'(\\w)(\\w+)(\\w)',repl,text)\n",
    "#这个正则表达式首位为任意一个字母，末尾任意一个字母\n",
    "#中间可以是多个的任意字母，因此group匹配时\n",
    "#group(1)为首位字母，group(3)为末尾字母，group(2)为中间字母部分\n",
    "\n"
   ]
  },
  {
   "cell_type": "code",
   "execution_count": 35,
   "id": "2675c53a-ad59-4129-b4e6-8f5ffd226ca7",
   "metadata": {},
   "outputs": [
    {
     "data": {
      "text/plain": [
       "'\\n嵌套的列表生成器\\n'"
      ]
     },
     "execution_count": 35,
     "metadata": {},
     "output_type": "execute_result"
    },
    {
     "data": {
      "text/plain": [
       "[1, 5, 9]"
      ]
     },
     "execution_count": 35,
     "metadata": {},
     "output_type": "execute_result"
    },
    {
     "data": {
      "text/plain": [
       "[2, 6, 10]"
      ]
     },
     "execution_count": 35,
     "metadata": {},
     "output_type": "execute_result"
    },
    {
     "data": {
      "text/plain": [
       "[3, 7, 11]"
      ]
     },
     "execution_count": 35,
     "metadata": {},
     "output_type": "execute_result"
    },
    {
     "data": {
      "text/plain": [
       "[4, 8, 12]"
      ]
     },
     "execution_count": 35,
     "metadata": {},
     "output_type": "execute_result"
    },
    {
     "data": {
      "text/plain": [
       "[[1, 5, 9], [2, 6, 10], [3, 7, 11], [4, 8, 12]]"
      ]
     },
     "execution_count": 35,
     "metadata": {},
     "output_type": "execute_result"
    },
    {
     "data": {
      "text/plain": [
       "'\\n更为简便的写法\\n'"
      ]
     },
     "execution_count": 35,
     "metadata": {},
     "output_type": "execute_result"
    },
    {
     "data": {
      "text/plain": [
       "[(1, 5, 9), (2, 6, 10), (3, 7, 11), (4, 8, 12)]"
      ]
     },
     "execution_count": 35,
     "metadata": {},
     "output_type": "execute_result"
    }
   ],
   "source": [
    "'''嵌套的列表生成器'''\n",
    "from IPython.core.interactiveshell import InteractiveShell\n",
    "InteractiveShell.ast_node_interactivity = \"all\"\n",
    "\n",
    "matrix=[[1,2,3,4],[5,6,7,8],[9,10,11,12],]\n",
    "[row[0] for row in matrix]\n",
    "[row[1] for row in matrix]\n",
    "[row[2] for row in matrix]\n",
    "[row[3] for row in matrix]\n",
    "[[row[i] for row in matrix] for i in range(4)]\n",
    "\n",
    "'''更为简便的写法'''\n",
    "list(zip(*matrix))\n"
   ]
  },
  {
   "cell_type": "code",
   "execution_count": 48,
   "id": "486a4723-d56d-45e5-a735-275f6d15f18a",
   "metadata": {},
   "outputs": [
    {
     "data": {
      "text/plain": [
       "'tuple的反向操作'"
      ]
     },
     "execution_count": 48,
     "metadata": {},
     "output_type": "execute_result"
    },
    {
     "data": {
      "text/plain": [
       "12345"
      ]
     },
     "execution_count": 48,
     "metadata": {},
     "output_type": "execute_result"
    },
    {
     "data": {
      "text/plain": [
       "54321"
      ]
     },
     "execution_count": 48,
     "metadata": {},
     "output_type": "execute_result"
    },
    {
     "data": {
      "text/plain": [
       "'hello'"
      ]
     },
     "execution_count": 48,
     "metadata": {},
     "output_type": "execute_result"
    },
    {
     "data": {
      "text/plain": [
       "tuple"
      ]
     },
     "execution_count": 48,
     "metadata": {},
     "output_type": "execute_result"
    },
    {
     "data": {
      "text/plain": [
       "int"
      ]
     },
     "execution_count": 48,
     "metadata": {},
     "output_type": "execute_result"
    },
    {
     "data": {
      "text/plain": [
       "str"
      ]
     },
     "execution_count": 48,
     "metadata": {},
     "output_type": "execute_result"
    },
    {
     "data": {
      "text/plain": [
       "'不太理解'"
      ]
     },
     "execution_count": 48,
     "metadata": {},
     "output_type": "execute_result"
    },
    {
     "data": {
      "text/plain": [
       "55"
      ]
     },
     "execution_count": 48,
     "metadata": {},
     "output_type": "execute_result"
    }
   ],
   "source": [
    "'''tuple的反向操作'''\n",
    "from IPython.core.interactiveshell import InteractiveShell\n",
    "InteractiveShell.ast_node_interactivity = \"all\"\n",
    "\n",
    "t=12345,54321,'hello'\n",
    "x,y,z=t\n",
    "x\n",
    "y\n",
    "z\n",
    "type(t)\n",
    "type(x)\n",
    "type(z)\n",
    "\n",
    "'''不太理解'''\n",
    "a,b,c=55,7778,58889\n",
    "nomp=a or b or c\n",
    "nomp"
   ]
  },
  {
   "cell_type": "code",
   "execution_count": null,
   "id": "e7311d9b-69a7-420b-8271-d15326b8d23c",
   "metadata": {},
   "outputs": [],
   "source": []
  }
 ],
 "metadata": {
  "kernelspec": {
   "display_name": "Python 3 (ipykernel)",
   "language": "python",
   "name": "python3"
  },
  "language_info": {
   "codemirror_mode": {
    "name": "ipython",
    "version": 3
   },
   "file_extension": ".py",
   "mimetype": "text/x-python",
   "name": "python",
   "nbconvert_exporter": "python",
   "pygments_lexer": "ipython3",
   "version": "3.9.16"
  },
  "toc-autonumbering": true,
  "toc-showcode": false,
  "toc-showmarkdowntxt": true,
  "toc-showtags": false
 },
 "nbformat": 4,
 "nbformat_minor": 5
}
