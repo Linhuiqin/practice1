{
 "cells": [
  {
   "cell_type": "code",
   "execution_count": 1,
   "id": "37e41776-61b0-4306-b257-15c24e9e0cb0",
   "metadata": {},
   "outputs": [],
   "source": [
    "#普通图形验证码、滑动验证码、点选验证码、手机验证码等，这些验证码识别的方式和思路各有不同，\n",
    "#有直接使用图像处理库完成的，有的则是借助于深度学习技术完成的，有的则是借助于一些工具和平台完成的。\n",
    "#虽然说技术各有不同，但了解这些验证码的识别方式之后，我们可以举一反三，用类似的方法识别其他类型验证码"
   ]
  },
  {
   "cell_type": "code",
   "execution_count": null,
   "id": "7c3982b0-b09b-4317-9e92-45b97ca2922a",
   "metadata": {},
   "outputs": [],
   "source": [
    "#最简单的一种验证码，图形验证码，使用OCR技术识别\n",
    "#光学字符识别，通过检测暗亮的模式确定其形状，然后用字符识别方法将形状翻译成计算机文字的过程\n",
    "#需安装Tesserocr库，selenium，pillow，numpy，retrying库用作模拟登陆，图像处理和操作重试\n",
    "\n",
    "#还未学习，需要好多时间呐呐呐呐呐呐呐\n",
    "\n"
   ]
  }
 ],
 "metadata": {
  "kernelspec": {
   "display_name": "Python 3 (ipykernel)",
   "language": "python",
   "name": "python3"
  },
  "language_info": {
   "codemirror_mode": {
    "name": "ipython",
    "version": 3
   },
   "file_extension": ".py",
   "mimetype": "text/x-python",
   "name": "python",
   "nbconvert_exporter": "python",
   "pygments_lexer": "ipython3",
   "version": "3.9.16"
  }
 },
 "nbformat": 4,
 "nbformat_minor": 5
}
