{
 "cells": [
  {
   "cell_type": "code",
   "execution_count": null,
   "id": "dff0ca3d-d15d-42dc-a510-bfe3c11d5b87",
   "metadata": {},
   "outputs": [],
   "source": [
    "#爬取的电脑网页链接https://weibo.com/2610874582/HdRqGwZNv\n",
    "#对应的手机网页链接https://m.weibo.cn/2610874582/4333036507864049（手机网页和客户端地址一样）\n",
    "#博主说微博在手机网页端比较容易获取（这个应该是经验之谈，我记住就好）\n",
    "\n",
    "import requests\n",
    "import json\n",
    "import os\n",
    "url='https://m.weibo.cn/comments/hotflow?id=4333036507864049&mid=4333036507864049&max_id_type=0'\n",
    "\n",
    "r=requests.get(url)\n",
    "#print(r.text)\n",
    "\n",
    "#获取下一页网页ID地址信息\n",
    "data_biaoqing=json.loads(r.text)\n",
    "next_url_id=data_biaoqing.get('data').get('max_id')\n",
    "\n",
    "#获取表情包图片地址\n",
    "root='picturepractice/'#定义一个根目录\n",
    "for i in range(18):\n",
    "    url_face=data_biaoqing.get('data').get('data')[i].get('pic').get('large').get('url')\n",
    "   # print(url_face)\n",
    "    path=root+url_face.split('/')[-1]#url.split('/')[-1]指URL反斜杠分隔的最后一段\n",
    "    try:\n",
    "        if not os.path.exists(root):#判断当前根目录存不存在，不存在就建立一个\n",
    "            os.mkdir(root)\n",
    "        if not os.path.exists(path):#判断这个文件是否粗存在\n",
    "           r=requests.get(url_face)\n",
    "           with open(path,'wb') as f:\n",
    "                f.write(r.content)\n",
    "                f.close()\n",
    "                print(\"文件保存成功\")\n",
    "        else:\n",
    "         print(\"文件已存在\")\n",
    "    except:\n",
    "         print(\"文件爬取失败\")\n",
    "            \n",
    "#小结-芜湖，成功啦，成功爬取首页评论的18条评论中的图片（表情包），存储在根文件夹\n",
    "#picturepractice/文件夹下。下面的代码尝试抓取前十页评论的所有图片"
   ]
  },
  {
   "cell_type": "code",
   "execution_count": 3,
   "id": "e9618960-960b-449e-a164-3499029dedc7",
   "metadata": {},
   "outputs": [
    {
     "name": "stderr",
     "output_type": "stream",
     "text": [
      "The chromedriver version (117.0.5938.62) detected in PATH at /usr/local/bin/chromedriver might not be compatible with the detected chrome version (118.0.5993.70); currently, chromedriver 118.0.5993.70 is recommended for chrome 118.*, so it is advised to delete the driver in PATH and retry\n"
     ]
    },
    {
     "ename": "AttributeError",
     "evalue": "'NoneType' object has no attribute 'text'",
     "output_type": "error",
     "traceback": [
      "\u001b[0;31m---------------------------------------------------------------------------\u001b[0m",
      "\u001b[0;31mAttributeError\u001b[0m                            Traceback (most recent call last)",
      "\u001b[1;32m/Users/linzhiying/xiaoyupractice/9biaoqingbao.ipynb 单元格 2\u001b[0m line \u001b[0;36m8\n\u001b[1;32m     <a href='vscode-notebook-cell:/Users/linzhiying/xiaoyupractice/9biaoqingbao.ipynb#W1sZmlsZQ%3D%3D?line=84'>85</a>\u001b[0m             \u001b[39mprint\u001b[39m(\u001b[39m\"\u001b[39m\u001b[39m文件爬取失败\u001b[39m\u001b[39m\"\u001b[39m)\n\u001b[1;32m     <a href='vscode-notebook-cell:/Users/linzhiying/xiaoyupractice/9biaoqingbao.ipynb#W1sZmlsZQ%3D%3D?line=87'>88</a>\u001b[0m \u001b[39mif\u001b[39;00m \u001b[39m__name__\u001b[39m\u001b[39m==\u001b[39m\u001b[39m'\u001b[39m\u001b[39m__main__\u001b[39m\u001b[39m'\u001b[39m:\n\u001b[0;32m---> <a href='vscode-notebook-cell:/Users/linzhiying/xiaoyupractice/9biaoqingbao.ipynb#W1sZmlsZQ%3D%3D?line=88'>89</a>\u001b[0m     get_everypage_url()\n",
      "\u001b[1;32m/Users/linzhiying/xiaoyupractice/9biaoqingbao.ipynb 单元格 2\u001b[0m line \u001b[0;36m6\n\u001b[1;32m     <a href='vscode-notebook-cell:/Users/linzhiying/xiaoyupractice/9biaoqingbao.ipynb#W1sZmlsZQ%3D%3D?line=57'>58</a>\u001b[0m \u001b[39mfor\u001b[39;00m i \u001b[39min\u001b[39;00m \u001b[39mrange\u001b[39m(\u001b[39m5\u001b[39m): \n\u001b[1;32m     <a href='vscode-notebook-cell:/Users/linzhiying/xiaoyupractice/9biaoqingbao.ipynb#W1sZmlsZQ%3D%3D?line=58'>59</a>\u001b[0m     r_everypage\u001b[39m=\u001b[39mbrowser\u001b[39m.\u001b[39mget(\u001b[39mstr\u001b[39m(url_sum[i]))   \n\u001b[0;32m---> <a href='vscode-notebook-cell:/Users/linzhiying/xiaoyupractice/9biaoqingbao.ipynb#W1sZmlsZQ%3D%3D?line=59'>60</a>\u001b[0m     data_biaoqing\u001b[39m=\u001b[39mjson\u001b[39m.\u001b[39mloads(r_everypage\u001b[39m.\u001b[39;49mtext)\n\u001b[1;32m     <a href='vscode-notebook-cell:/Users/linzhiying/xiaoyupractice/9biaoqingbao.ipynb#W1sZmlsZQ%3D%3D?line=60'>61</a>\u001b[0m     next_url_id\u001b[39m=\u001b[39mdata_biaoqing\u001b[39m.\u001b[39mget(\u001b[39m'\u001b[39m\u001b[39mdata\u001b[39m\u001b[39m'\u001b[39m)\u001b[39m.\u001b[39mget(\u001b[39m'\u001b[39m\u001b[39mmax_id\u001b[39m\u001b[39m'\u001b[39m)\n\u001b[1;32m     <a href='vscode-notebook-cell:/Users/linzhiying/xiaoyupractice/9biaoqingbao.ipynb#W1sZmlsZQ%3D%3D?line=61'>62</a>\u001b[0m     url_next\u001b[39m=\u001b[39m\u001b[39m'\u001b[39m\u001b[39mhttps://m.weibo.cn/comments/hotflow?id=4333036507864049&max_id=\u001b[39m\u001b[39m'\u001b[39m\u001b[39m+\u001b[39m\u001b[39mstr\u001b[39m(next_url_id)\u001b[39m#+'&max_id_type=0'\u001b[39;00m\n",
      "\u001b[0;31mAttributeError\u001b[0m: 'NoneType' object has no attribute 'text'"
     ]
    }
   ],
   "source": [
    "#为上面代码的进阶练习，爬取前十页评论的所有表情包\n",
    "import requests\n",
    "import json\n",
    "import os\n",
    "from selenium import webdriver\n",
    "from selenium.webdriver.common.keys import Keys\n",
    "#from selenium.webdriver import Chrome\n",
    "from selenium.webdriver.common.by import By\n",
    "import time\n",
    "\n",
    "url='https://m.weibo.cn/comments/hotflow?id=4333036507864049&mid=4333036507864049&max_id_type=0'\n",
    "#login_url='https://passport.weibo.cn/sso/login'\n",
    "#login_data={'username':'18850555804',#表单数据\n",
    "#            'password':'linhuiqin199304'}\n",
    "\n",
    "\n",
    "#session=requests.Session()#定义session类\n",
    "#r=session.post(login_url,login_data)#这步只是为了获取表单数据\n",
    "#r_cookie=session.cookies#获取登陆后的表单数据\n",
    "#print('11111111111Cookies',r_cookie)\n",
    "#r=session.get(url)\n",
    "#print(r.text)\n",
    "\n",
    "\n",
    "\n",
    "#获取下一页网页ID地址信息\n",
    "def get_everypage_url():\n",
    "    my_loginname='18850555804'\n",
    "    my_password='linhuiqin199304'\n",
    "    #用selenium\n",
    "    browser=webdriver.Chrome()\n",
    "    browser.get('https://passport.weibo.cn/signin/welcome?entry=mweibo&r=https%3A%2F%2Fm.weibo.cn%2Fcomments%2Fhotflow%3Fid%3D4333036507864049%26max_id%3D174979505889554')\n",
    "    #browser.find_element_by_class_name('btn btnWhite').click()#通过class名字定位节点并点击\n",
    "    browser.find_element(By.XPATH,'//div[@class=\"action\"]/a[2]').click()\n",
    "    #跳转网页到登陆页面\n",
    "    time.sleep(2)\n",
    "    browser.find_element(By.XPATH,'//p[@class=\"input-box\"]/input').send_keys(my_loginname)\n",
    "    browser.find_element(By.ID,'loginPassword').send_keys(my_password)#传入账号密码\n",
    "    browser.find_element(By.ID,'loginAction').click()#点击登录\n",
    "    #输入账号密码并点击了登陆，跳转到获取短信验证码页面\n",
    "    time.sleep(2)\n",
    "    browser.find_element(By.XPATH,'//div[@class=\"my-btn-box\"]/a').click()#这里是点击获取短信验证码\n",
    "    #接下来要传入短信验证码\n",
    "    time.sleep(10)\n",
    "    yanzheng=input(\"输入六位验证码：\")#把六位验证码赋值到yanzheng中\n",
    "    time.sleep(2)\n",
    "    browser.find_element(By.XPATH,'//span[@class=\"my-input fz16 fc-33 my-td-txt\"]/input').send_keys(yanzheng)#成功把验证码输入到表格中\n",
    "    time.sleep(15)\n",
    "    browser.find_element(By.XPATH,'//div[@class=\"my-btn-box\"]/a').click() #10.14我感觉是可以了。再验证下看能不能行的通\n",
    "    \n",
    "\n",
    "    url_sum=[]\n",
    "    url1='https://m.weibo.cn/comments/hotflow?id=4333036507864049&mid=4333036507864049&max_id_type=0'\n",
    "    url_sum.append(url1)\n",
    "#    print(type(url_sum),url_sum)\n",
    "#    print(url_sum[0],type(url_sum))\n",
    "    #初始网页单独定义\n",
    "    for i in range(5): \n",
    "        r_everypage=browser.get(str(url_sum[i]))   \n",
    "        data_biaoqing=json.loads(r_everypage.text)\n",
    "        next_url_id=data_biaoqing.get('data').get('max_id')\n",
    "        url_next='https://m.weibo.cn/comments/hotflow?id=4333036507864049&max_id='+str(next_url_id)#+'&max_id_type=0'\n",
    "        print(url_next,type(url_next))\n",
    "        url_sum.append(url_next)\n",
    "        print(url_sum,'第',i+1,'次循环')\n",
    "#获取一页表情包图片地址，传入该页获取内容，\n",
    "def onepage_faceget(data_biaoqing):\n",
    "    root='picturepractice/'#定义一个根目录\n",
    "    for i in range(18):\n",
    "        url_face=data_biaoqing.get('data').get('data')[i].get('pic').get('large').get('url')\n",
    "       # print(url_face)这个是获取data_biaoqing内的图片地址\n",
    "        path=root+url_face.split('/')[-1]#url.split('/')[-1]指URL反斜杠分隔的最后一段\n",
    "        try:\n",
    "            if not os.path.exists(root):#判断当前根目录存不存在，不存在就建立一个\n",
    "                os.mkdir(root)\n",
    "            if not os.path.exists(path):#判断这个文件是否粗存在\n",
    "               r=requests.get(url_face)\n",
    "               with open(path,'wb') as f:\n",
    "                    f.write(r.content)\n",
    "                    f.close()\n",
    "                    print(\"文件保存成功\")\n",
    "            else:\n",
    "                print(\"文件已存在\")\n",
    "        except:\n",
    "            print(\"文件爬取失败\")\n",
    "            \n",
    "\n",
    "if __name__=='__main__':\n",
    "    get_everypage_url()\n",
    "  "
   ]
  },
  {
   "cell_type": "code",
   "execution_count": null,
   "id": "ad0b48e4",
   "metadata": {},
   "outputs": [],
   "source": []
  },
  {
   "cell_type": "code",
   "execution_count": 2,
   "id": "8c8d2ff2-f9b2-49e6-8cba-842dd526bc00",
   "metadata": {},
   "outputs": [
    {
     "name": "stdout",
     "output_type": "stream",
     "text": [
      "已接受键入数据 999999 <class 'str'>\n"
     ]
    }
   ],
   "source": [
    "#input函数使用方法，由于input是python的内建函数，因此无需额外导入\n",
    "yanzheng=input(\"输入六位验证码：\")\n",
    "print('已接受键入数据',yanzheng,type(yanzheng))\n",
    "\n"
   ]
  },
  {
   "cell_type": "code",
   "execution_count": null,
   "id": "41116470-f4b0-4219-9957-0f03d0bec590",
   "metadata": {},
   "outputs": [],
   "source": [
    "#微博账号密码登陆的方式太麻烦了，一天只能登陆3次，太局限\n",
    "#https://m.weibo.cn/login?backURL=https%3A%2F%2Fm.weibo.cn%2F\n",
    "#通过短信验证码方式登陆，需要解决的问题是他会跳出验证码框，需要....有点难，目前没找到教程"
   ]
  },
  {
   "cell_type": "code",
   "execution_count": null,
   "id": "ebe3546f",
   "metadata": {},
   "outputs": [],
   "source": []
  },
  {
   "cell_type": "code",
   "execution_count": null,
   "id": "7153461d-7560-4730-9e4a-2803e86345a0",
   "metadata": {},
   "outputs": [],
   "source": [
    "\n"
   ]
  },
  {
   "cell_type": "code",
   "execution_count": null,
   "id": "53c629fb-7ee5-4f29-bbe9-4f8e42b1e194",
   "metadata": {},
   "outputs": [],
   "source": []
  }
 ],
 "metadata": {
  "kernelspec": {
   "display_name": "Python 3 (ipykernel)",
   "language": "python",
   "name": "python3"
  },
  "language_info": {
   "codemirror_mode": {
    "name": "ipython",
    "version": 3
   },
   "file_extension": ".py",
   "mimetype": "text/x-python",
   "name": "python",
   "nbconvert_exporter": "python",
   "pygments_lexer": "ipython3",
   "version": "3.9.16"
  }
 },
 "nbformat": 4,
 "nbformat_minor": 5
}
