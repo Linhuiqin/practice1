{
 "cells": [
  {
   "cell_type": "code",
   "execution_count": 22,
   "id": "ef07336f-68e2-4e02-ba79-b1d660d718c9",
   "metadata": {},
   "outputs": [
    {
     "data": {
      "text/plain": [
       "'去除子字符str.strip([chars])--迭代剔除首末尾的方法\\n只去除一个字符串首尾的所有空白，包括空白，tab，换行符等等'"
      ]
     },
     "execution_count": 22,
     "metadata": {},
     "output_type": "execute_result"
    },
    {
     "data": {
      "text/plain": [
       "'Simple is better than \\n complex.'"
      ]
     },
     "execution_count": 22,
     "metadata": {},
     "output_type": "execute_result"
    },
    {
     "data": {
      "text/plain": [
       "'如果参数中定义了字符串，则剔除首尾中于参数字母重复的字母'"
      ]
     },
     "execution_count": 22,
     "metadata": {},
     "output_type": "execute_result"
    },
    {
     "data": {
      "text/plain": [
       "'mple is better than comple'"
      ]
     },
     "execution_count": 22,
     "metadata": {},
     "output_type": "execute_result"
    },
    {
     "data": {
      "text/plain": [
       "'mple is better than complex.'"
      ]
     },
     "execution_count": 22,
     "metadata": {},
     "output_type": "execute_result"
    },
    {
     "data": {
      "text/plain": [
       "'mple is better than comple'"
      ]
     },
     "execution_count": 22,
     "metadata": {},
     "output_type": "execute_result"
    },
    {
     "data": {
      "text/plain": [
       "'还可以只对左侧处理，str.lstrip() 或者只对右侧处理，str.rstrip()'"
      ]
     },
     "execution_count": 22,
     "metadata": {},
     "output_type": "execute_result"
    },
    {
     "data": {
      "text/plain": [
       "'mple is better than complex.'"
      ]
     },
     "execution_count": 22,
     "metadata": {},
     "output_type": "execute_result"
    }
   ],
   "source": [
    "'''去除子字符str.strip([chars])--迭代剔除首末尾的方法\n",
    "只去除一个字符串首尾的所有空白，包括空白，tab，换行符等等'''\n",
    "from IPython.core.interactiveshell import InteractiveShell\n",
    "InteractiveShell.ast_node_interactivity = \"all\"\n",
    "\n",
    "s=\"\\r \\t Simple is better than \\n complex.    \\t \\n\"\n",
    "s.strip()\n",
    "\n",
    "'''如果参数中定义了字符串，则剔除首尾中于参数字母重复的字母'''\n",
    "s1 = \"Simple is better than complex.\"\n",
    "s1.strip('Six.p')\n",
    "s1.strip('pSix')#strip是默认迭代处理的，先识别首末的s和.都有在参数中，剔除\n",
    "#接着识别新字符串的首末尾i和e，剔除i。继续识别新字符串\n",
    "s1.strip('pSix.')\n",
    "\n",
    "'''只对左侧处理，str.lstrip() 或者只对右侧处理，str.rstrip()'''\n",
    "s = \"Simple is better than complex.\"\n",
    "s.lstrip('Six.p') \n"
   ]
  },
  {
   "cell_type": "code",
   "execution_count": 25,
   "id": "706fda6b-cd39-4a54-9a03-edca8204c497",
   "metadata": {
    "collapsed": true,
    "jupyter": {
     "outputs_hidden": true
    },
    "tags": []
   },
   "outputs": [
    {
     "data": {
      "text/plain": [
       "'拆分字符串\\n计算机擅长处理的是 “格式化数据”，即，这些数据按照一定的格式排列 ——\\n电子表格、数据库，就是一种保存方式。Microsoft 的 Excel 和 Apple 的 Numbers，\\n都可以将表格导出为 .csv 文件。这是文本文件，里面的每一行可能由多个数据构成，\\n数据之间用 ,（或 ;、\\t）分隔'"
      ]
     },
     "execution_count": 25,
     "metadata": {},
     "output_type": "execute_result"
    },
    {
     "data": {
      "text/plain": [
       "['Name,Age,Location,John,18,New York',\n",
       " 'Mike,22,San Francisco',\n",
       " 'Janny,25,Miami',\n",
       " 'Sunny,21,Shanghai']"
      ]
     },
     "execution_count": 25,
     "metadata": {},
     "output_type": "execute_result"
    },
    {
     "data": {
      "text/plain": [
       "'Janny,25,Miami'"
      ]
     },
     "execution_count": 25,
     "metadata": {},
     "output_type": "execute_result"
    },
    {
     "data": {
      "text/plain": [
       "'str.split(sep=None, maxsplit=-1), 是将一个字符串，根据分隔符进行拆分'"
      ]
     },
     "execution_count": 25,
     "metadata": {},
     "output_type": "execute_result"
    },
    {
     "data": {
      "text/plain": [
       "['Name,Age,Location,John,18,New',\n",
       " 'York',\n",
       " 'Mike,22,San',\n",
       " 'Francisco',\n",
       " 'Janny,25,Miami',\n",
       " 'Sunny,21,Shanghai']"
      ]
     },
     "execution_count": 25,
     "metadata": {},
     "output_type": "execute_result"
    },
    {
     "data": {
      "text/plain": [
       "['Name',\n",
       " 'Age',\n",
       " 'Location',\n",
       " 'John',\n",
       " '18',\n",
       " 'New York\\nMike',\n",
       " '22',\n",
       " 'San Francisco\\nJanny',\n",
       " '25',\n",
       " 'Miami\\nSunny',\n",
       " '21',\n",
       " 'Shanghai']"
      ]
     },
     "execution_count": 25,
     "metadata": {},
     "output_type": "execute_result"
    },
    {
     "data": {
      "text/plain": [
       "['Janny,25,Miami']"
      ]
     },
     "execution_count": 25,
     "metadata": {},
     "output_type": "execute_result"
    },
    {
     "data": {
      "text/plain": [
       "['Janny', '25', 'Miami']"
      ]
     },
     "execution_count": 25,
     "metadata": {},
     "output_type": "execute_result"
    }
   ],
   "source": [
    "'''拆分字符串\n",
    "计算机擅长处理的是 “格式化数据”，即，这些数据按照一定的格式排列 ——\n",
    "电子表格、数据库，就是一种保存方式。Microsoft 的 Excel 和 Apple 的 Numbers，\n",
    "都可以将表格导出为 .csv 文件。这是文本文件，里面的每一行可能由多个数据构成，\n",
    "数据之间用 ,（或 ;、\\t）分隔'''\n",
    "from IPython.core.interactiveshell import InteractiveShell\n",
    "InteractiveShell.ast_node_interactivity = \"all\"\n",
    "\n",
    "#str.splitlines() 返回的是个列表（List）\n",
    "s = \"\"\"Name,Age,Location,John,18,New York\n",
    "Mike,22,San Francisco\n",
    "Janny,25,Miami\n",
    "Sunny,21,Shanghai\"\"\"\n",
    "s.splitlines() \n",
    "r = s.splitlines()[2]   # 取出返回列表中索引值为 2 的那一行\n",
    "r\n",
    "\n",
    "'''str.split(sep=None, maxsplit=-1), 是将一个字符串，根据分隔符进行拆分'''\n",
    "s.split()#默认值是以none分隔（各种空白，\\t,\\n）\n",
    "s.split(',')#设定以','为标准进行拆分\n",
    "r.split(sep=',', maxsplit=0)  # 0 次，即不拆分\n",
    "r.split(sep=',', maxsplit=-1) # 默认值是 -1，拆分全部"
   ]
  },
  {
   "cell_type": "code",
   "execution_count": 26,
   "id": "25eb1c50-4915-408c-9f65-0da2fcc9dd4b",
   "metadata": {},
   "outputs": [
    {
     "data": {
      "text/plain": [
       "'拼接字符串str.join(_iterable_) 将来非常常用'"
      ]
     },
     "execution_count": 26,
     "metadata": {},
     "output_type": "execute_result"
    },
    {
     "data": {
      "text/plain": [
       "'Python'"
      ]
     },
     "execution_count": 26,
     "metadata": {},
     "output_type": "execute_result"
    }
   ],
   "source": [
    "'''拼接字符串str.join(_iterable_) 将来非常常用'''\n",
    "from IPython.core.interactiveshell import InteractiveShell\n",
    "InteractiveShell.ast_node_interactivity = \"all\"\n",
    "\n",
    "#常见做法就是用一个空容器调用join这个方法，把目标字符串拼接起来\n",
    "s = ''\n",
    "t = ['P', 'y', 't', 'h', 'o', 'n']\n",
    "s.join(t)"
   ]
  },
  {
   "cell_type": "code",
   "execution_count": 28,
   "id": "d3699c27-9d01-4241-9bb2-c742ffead5bd",
   "metadata": {},
   "outputs": [
    {
     "data": {
      "text/plain": [
       "'字符串排版\\nstr.center(width[, fillchar])\\n将字符串居中放置 —— 前提是设定整行的长度：\\nchar 是 character 的缩写，意思是只接收单个字符'"
      ]
     },
     "execution_count": 28,
     "metadata": {},
     "output_type": "execute_result"
    },
    {
     "data": {
      "text/plain": [
       "'                Sparse Is Better Than Dense!                '"
      ]
     },
     "execution_count": 28,
     "metadata": {},
     "output_type": "execute_result"
    },
    {
     "data": {
      "text/plain": [
       "'================Sparse Is Better Than Dense!================'"
      ]
     },
     "execution_count": 28,
     "metadata": {},
     "output_type": "execute_result"
    },
    {
     "data": {
      "text/plain": [
       "'Sparse Is Better Than Dense!'"
      ]
     },
     "execution_count": 28,
     "metadata": {},
     "output_type": "execute_result"
    },
    {
     "data": {
      "text/plain": [
       "'将字符串靠左或者靠右对齐放置：str.ljust(width)   str.rjust(width)'"
      ]
     },
     "execution_count": 28,
     "metadata": {},
     "output_type": "execute_result"
    },
    {
     "data": {
      "text/plain": [
       "'                                Sparse Is Better Than Dense!'"
      ]
     },
     "execution_count": 28,
     "metadata": {},
     "output_type": "execute_result"
    },
    {
     "data": {
      "text/plain": [
       "'................................Sparse Is Better Than Dense!'"
      ]
     },
     "execution_count": 28,
     "metadata": {},
     "output_type": "execute_result"
    },
    {
     "data": {
      "text/plain": [
       "'将字符串转换成左侧由 0 填充的指定长度字符串。适用于想要批量生成文件名'"
      ]
     },
     "execution_count": 28,
     "metadata": {},
     "output_type": "execute_result"
    },
    {
     "name": "stdout",
     "output_type": "stream",
     "text": [
      "001.mp3\n",
      "002.mp3\n",
      "003.mp3\n",
      "004.mp3\n",
      "005.mp3\n",
      "006.mp3\n",
      "007.mp3\n",
      "008.mp3\n",
      "009.mp3\n",
      "010.mp3\n"
     ]
    }
   ],
   "source": [
    "'''字符串排版\n",
    "str.center(width[, fillchar])\n",
    "将字符串居中放置 —— 前提是设定整行的长度：\n",
    "char 是 character 的缩写，意思是只接收单个字符'''\n",
    "from IPython.core.interactiveshell import InteractiveShell\n",
    "InteractiveShell.ast_node_interactivity = \"all\"\n",
    "\n",
    "s = 'Sparse is better than dense!'\n",
    "s.title().center(60)\n",
    "s.title().center(60, '=')\n",
    "s.title().center(10) # 如果宽度参数小于字符串长度，则返回原字符串\n",
    "\n",
    "'''将字符串靠左或者靠右对齐放置：str.ljust(width)   str.rjust(width)'''\n",
    "s = 'Sparse is better than dense!'\n",
    "s.title().rjust(60)\n",
    "s.title().rjust(60, '.')\n",
    "\n",
    "'''将字符串转换成左侧由 0 填充的指定长度字符串。适用于想要批量生成文件名'''\n",
    "for i in range(1, 11):\n",
    "    filename = str(i).zfill(3) + '.mp3'\n",
    "    print(filename)"
   ]
  },
  {
   "cell_type": "code",
   "execution_count": 29,
   "id": "a6a7872e-8c85-4a64-80ac-1d69f0c6a0e8",
   "metadata": {},
   "outputs": [
    {
     "data": {
      "text/plain": [
       "'格式化字符串,指的是将特定变量插入字符串特定位置的过程'"
      ]
     },
     "execution_count": 29,
     "metadata": {},
     "output_type": "execute_result"
    },
    {
     "data": {
      "text/plain": [
       "'str.format(*args, **kwargs)\\n在一个字符串中，插入一个或者多个占位符 —— 用大括号 {} 括起来；\\n而后将 str.format() 相应的参数，依次插入占位符中；'"
      ]
     },
     "execution_count": 29,
     "metadata": {},
     "output_type": "execute_result"
    },
    {
     "data": {
      "text/plain": [
       "'John is 25 years old.'"
      ]
     },
     "execution_count": 29,
     "metadata": {},
     "output_type": "execute_result"
    },
    {
     "data": {
      "text/plain": [
       "'Are you John? :-{+}'"
      ]
     },
     "execution_count": 29,
     "metadata": {},
     "output_type": "execute_result"
    },
    {
     "data": {
      "text/plain": [
       "'John is a grown up? True'"
      ]
     },
     "execution_count": 29,
     "metadata": {},
     "output_type": "execute_result"
    },
    {
     "data": {
      "text/plain": [
       "' f-string更简洁些'"
      ]
     },
     "execution_count": 29,
     "metadata": {},
     "output_type": "execute_result"
    }
   ],
   "source": [
    "'''格式化字符串,指的是将特定变量插入字符串特定位置的过程'''\n",
    "\n",
    "'''str.format(*args, **kwargs)\n",
    "在一个字符串中，插入一个或者多个占位符 —— 用大括号 {} 括起来；\n",
    "而后将 str.format() 相应的参数，依次插入占位符中；'''\n",
    "name = 'John'\n",
    "age = 25\n",
    "'{} is {} years old.'.format(name, age)\n",
    "# 不写占位符索引就默认每个占位符的索引从第一个开始是 0, 1, 2 ...（占位符数量 - 1)\n",
    "# '{} {}'.format(a, b) 和 '{0} {1}'.format(a, b) 是一样的。\n",
    "\n",
    "# '{0} is {2} years old.'.format(name, age)\n",
    "# 这一句会报错，因为 2 超出实际参数索引极限\n",
    "\n",
    "# 两个连续使用的大括号，不被认为是占位符；且只打印出一对大括号\n",
    "\"Are you {0}? :-{{+}}\".format(name)\n",
    "\n",
    "# \"%s is %d years old.\" % (name, age)\n",
    "# 上一行这是兼容 Python 2 的老式写法，可以从此忽略……\n",
    "\n",
    "# str.fomrat() 里可以直接写表达式……\n",
    "'{} is a grown up? {}'.format(name, age >= 18)\n",
    "\n",
    "''' f-string更简洁些'''"
   ]
  },
  {
   "cell_type": "code",
   "execution_count": 30,
   "id": "dca3972e-f2d7-41ac-a727-4b3990c4d6df",
   "metadata": {},
   "outputs": [
    {
     "data": {
      "text/plain": [
       "'字符串属性\\n字符串还有一系列的 Methods，返回的是布尔值，用来判断字符串的构成属性'"
      ]
     },
     "execution_count": 30,
     "metadata": {},
     "output_type": "execute_result"
    },
    {
     "name": "stdout",
     "output_type": "stream",
     "text": [
      "'1234567890'.isalnum(): True\n",
      "'abcdefghij'.isalpha(): True\n",
      "'山巅一寺一壶酒'.isascii(): False\n",
      "'0.123456789'.isdecimal(): False\n",
      "'0.123456789'.isdigit(): False\n",
      "'0.123456789'.isnumeric(): False\n",
      "'Continue'.islower(): False\n",
      "'Simple Is Better Than Complex'.isupper(): False\n",
      "'Simple Is Better Than Complex'.istitle(): True\n",
      "'\t'.isprintable(): False\n",
      "'\t'.isspace(): True\n",
      "'for'.isidentifier(): True\n"
     ]
    }
   ],
   "source": [
    "'''字符串属性\n",
    "字符串还有一系列的 Methods，返回的是布尔值，用来判断字符串的构成属性'''\n",
    "# str.isalnum()\n",
    "print(\"'1234567890'.isalnum():\", \\\n",
    "      '1234567890'.isalnum()) # '3.14'.isalnum() 返回的是 False\n",
    "\n",
    "# str.isalpha()\n",
    "print(\"'abcdefghij'.isalpha():\", \\\n",
    "      'abcdefghij'.isalpha())\n",
    "\n",
    "# str.isascii()\n",
    "print(\"'山巅一寺一壶酒'.isascii():\", \\\n",
    "      '山巅一寺一壶酒'.isascii())\n",
    "\n",
    "# str.isdecimal()\n",
    "print(\"'0.123456789'.isdecimal():\", \\\n",
    "      '0.1234567890'.isdecimal())\n",
    "\n",
    "# str.isdigit()\n",
    "print(\"'0.123456789'.isdigit():\", \\\n",
    "      '0.1234567890'.isdigit())       #  注意，如果字符串是 identifier，返回值也是 False\n",
    "\n",
    "# str.isnumeric()\n",
    "print(\"'0.123456789'.isnumeric():\", \\\n",
    "      '0.1234567890'.isnumeric())\n",
    "\n",
    "# str.islower()\n",
    "print(\"'Continue'.islower():\", \\\n",
    "      'Continue'.islower())\n",
    "\n",
    "# str.isupper()\n",
    "print(\"'Simple Is Better Than Complex'.isupper():\", \\\n",
    "      'Simple Is Better Than Complex'.isupper())\n",
    "\n",
    "# str.istitle()\n",
    "print(\"'Simple Is Better Than Complex'.istitle():\", \\\n",
    "      'Simple Is Better Than Complex'.istitle())\n",
    "\n",
    "# str.isprintable()\n",
    "print(\"'\\t'.isprintable():\", \\\n",
    "      '\\t'.isprintable())\n",
    "\n",
    "# str.isspace()\n",
    "print(\"'\\t'.isspace():\", \\\n",
    "      '\\t'.isspace())\n",
    "\n",
    "# str.isidentifier()\n",
    "print(\"'for'.isidentifier():\", \\\n",
    "      'for'.isidentifier())"
   ]
  },
  {
   "cell_type": "code",
   "execution_count": 44,
   "id": "b0e5a9a9-0c45-48f9-9b5d-22e12d4cebb5",
   "metadata": {},
   "outputs": [
    {
     "ename": "SyntaxError",
     "evalue": "invalid syntax (2938550654.py, line 1)",
     "output_type": "error",
     "traceback": [
      "\u001b[0;36m  Cell \u001b[0;32mIn[44], line 1\u001b[0;36m\u001b[0m\n\u001b[0;31m    python fibo.py <arguments>\u001b[0m\n\u001b[0m           ^\u001b[0m\n\u001b[0;31mSyntaxError\u001b[0m\u001b[0;31m:\u001b[0m invalid syntax\n"
     ]
    }
   ],
   "source": [
    "python fibo.py <arguments>\n",
    "fibo.fib(44)\n",
    "\n"
   ]
  },
  {
   "cell_type": "code",
   "execution_count": null,
   "id": "7ca2745b-857e-4fee-9605-e23c128a784e",
   "metadata": {},
   "outputs": [],
   "source": []
  }
 ],
 "metadata": {
  "kernelspec": {
   "display_name": "Python 3 (ipykernel)",
   "language": "python",
   "name": "python3"
  },
  "language_info": {
   "codemirror_mode": {
    "name": "ipython",
    "version": 3
   },
   "file_extension": ".py",
   "mimetype": "text/x-python",
   "name": "python",
   "nbconvert_exporter": "python",
   "pygments_lexer": "ipython3",
   "version": "3.9.16"
  }
 },
 "nbformat": 4,
 "nbformat_minor": 5
}
