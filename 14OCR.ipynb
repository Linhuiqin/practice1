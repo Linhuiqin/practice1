{
 "cells": [
  {
   "cell_type": "code",
   "execution_count": 1,
   "id": "a94a923e-25c4-4380-b390-261fbb5cdf49",
   "metadata": {},
   "outputs": [
    {
     "ename": "RuntimeError",
     "evalue": "Failed to init API, possibly an invalid tessdata path: ./",
     "output_type": "error",
     "traceback": [
      "\u001b[0;31m---------------------------------------------------------------------------\u001b[0m",
      "\u001b[0;31mRuntimeError\u001b[0m                              Traceback (most recent call last)",
      "Cell \u001b[0;32mIn[1], line 6\u001b[0m\n\u001b[1;32m      3\u001b[0m \u001b[38;5;28;01mfrom\u001b[39;00m \u001b[38;5;21;01mPIL\u001b[39;00m \u001b[38;5;28;01mimport\u001b[39;00m Image\n\u001b[1;32m      5\u001b[0m image\u001b[38;5;241m=\u001b[39mImage\u001b[38;5;241m.\u001b[39mopen(\u001b[38;5;124m'\u001b[39m\u001b[38;5;124mpicturepractice/3tfw7.png\u001b[39m\u001b[38;5;124m'\u001b[39m)\u001b[38;5;66;03m#用image库打开图片。注意这里的路径必须是绝对路径，即当前的.py文件的目录即为根目录\u001b[39;00m\n\u001b[0;32m----> 6\u001b[0m result\u001b[38;5;241m=\u001b[39m\u001b[43mtesserocr\u001b[49m\u001b[38;5;241;43m.\u001b[39;49m\u001b[43mimage_to_text\u001b[49m\u001b[43m(\u001b[49m\u001b[43mimage\u001b[49m\u001b[43m)\u001b[49m\n\u001b[1;32m      7\u001b[0m \u001b[38;5;28mprint\u001b[39m(result)\n",
      "File \u001b[0;32mtesserocr.pyx:2580\u001b[0m, in \u001b[0;36mtesserocr.image_to_text\u001b[0;34m()\u001b[0m\n",
      "\u001b[0;31mRuntimeError\u001b[0m: Failed to init API, possibly an invalid tessdata path: ./"
     ]
    }
   ],
   "source": [
    "#OCR技术识别图形验证码\n",
    "import tesserocr\n",
    "from PIL import Image\n",
    "\n",
    "image=Image.open('picturepractice/3tfw7.png')#用image库打开图片。注意这里的路径必须是绝对路径，即当前的.py文件的目录即为根目录\n",
    "result=tesserocr.image_to_text(image)\n",
    "print(result)\n",
    "\n"
   ]
  },
  {
   "cell_type": "code",
   "execution_count": 2,
   "id": "f62a64cc-d370-45d9-ac57-366cc4da17a3",
   "metadata": {},
   "outputs": [
    {
     "ename": "RuntimeError",
     "evalue": "Failed to init API, possibly an invalid tessdata path: ./",
     "output_type": "error",
     "traceback": [
      "\u001b[0;31m---------------------------------------------------------------------------\u001b[0m",
      "\u001b[0;31mRuntimeError\u001b[0m                              Traceback (most recent call last)",
      "Cell \u001b[0;32mIn[2], line 6\u001b[0m\n\u001b[1;32m      4\u001b[0m \u001b[38;5;28;01mfrom\u001b[39;00m \u001b[38;5;21;01mPIL\u001b[39;00m \u001b[38;5;28;01mimport\u001b[39;00m Image\n\u001b[1;32m      5\u001b[0m image \u001b[38;5;241m=\u001b[39m Image\u001b[38;5;241m.\u001b[39mopen(\u001b[38;5;124m'\u001b[39m\u001b[38;5;124mimage.png\u001b[39m\u001b[38;5;124m'\u001b[39m)\n\u001b[0;32m----> 6\u001b[0m \u001b[38;5;28mprint\u001b[39m(\u001b[43mtesserocr\u001b[49m\u001b[38;5;241;43m.\u001b[39;49m\u001b[43mimage_to_text\u001b[49m\u001b[43m(\u001b[49m\u001b[43mimage\u001b[49m\u001b[43m)\u001b[49m)\n",
      "File \u001b[0;32mtesserocr.pyx:2580\u001b[0m, in \u001b[0;36mtesserocr.image_to_text\u001b[0;34m()\u001b[0m\n",
      "\u001b[0;31mRuntimeError\u001b[0m: Failed to init API, possibly an invalid tessdata path: ./"
     ]
    }
   ],
   "source": [
    "import locale\n",
    "locale.setlocale(locale.LC_ALL,'C')\n",
    "import tesserocr\n",
    "from PIL import Image\n",
    "image = Image.open('image.png')\n",
    "print(tesserocr.image_to_text(image))\n"
   ]
  },
  {
   "cell_type": "code",
   "execution_count": null,
   "id": "b8bef43f-489b-4436-a6ae-32c5742f2965",
   "metadata": {},
   "outputs": [],
   "source": []
  }
 ],
 "metadata": {
  "kernelspec": {
   "display_name": "Python 3 (ipykernel)",
   "language": "python",
   "name": "python3"
  },
  "language_info": {
   "codemirror_mode": {
    "name": "ipython",
    "version": 3
   },
   "file_extension": ".py",
   "mimetype": "text/x-python",
   "name": "python",
   "nbconvert_exporter": "python",
   "pygments_lexer": "ipython3",
   "version": "3.9.16"
  }
 },
 "nbformat": 4,
 "nbformat_minor": 5
}
